{
  "nbformat": 4,
  "nbformat_minor": 0,
  "metadata": {
    "colab": {
      "provenance": [],
      "authorship_tag": "ABX9TyOv+thLX4H4+05U9BUWw3R1",
      "include_colab_link": true
    },
    "kernelspec": {
      "name": "python3",
      "display_name": "Python 3"
    },
    "language_info": {
      "name": "python"
    }
  },
  "cells": [
    {
      "cell_type": "markdown",
      "metadata": {
        "id": "view-in-github",
        "colab_type": "text"
      },
      "source": [
        "<a href=\"https://colab.research.google.com/github/kooosee/Prog2kakushin/blob/main/work3.ipynb\" target=\"_parent\"><img src=\"https://colab.research.google.com/assets/colab-badge.svg\" alt=\"Open In Colab\"/></a>"
      ]
    },
    {
      "cell_type": "markdown",
      "source": [
        "## openCVを使ってロールプレイのゲームを作る\n",
        "\n"
      ],
      "metadata": {
        "id": "uZFU0g0i8wsr"
      }
    },
    {
      "cell_type": "code",
      "source": [
        "import numpy as np\n",
        "import sys\n",
        "import cv2\n",
        "from google.colab.patches import cv2_imshow"
      ],
      "metadata": {
        "id": "9CRPJh_1Rl55"
      },
      "execution_count": 1,
      "outputs": []
    },
    {
      "cell_type": "code",
      "source": [
        "print('ルール説明\\n5種類:◯,□,↘︎,＋,× それぞれ3枚ずつ計15枚のカードを使う。')\n",
        "img = np.zeros( (560, 750, 3), np.uint8 ) \n",
        "img.fill( 255 )\n",
        "for i in range(5):\n",
        "  for j in range(3):\n",
        "     cv2.rectangle(img,(50+140*i,50+170*j),(140+140*i,170+170*j),color=(0,0,0))\n",
        "for a in range(3):\n",
        "  cv2.circle(img,(95,110+170*a),20,color=(0),thickness=-1)\n",
        "  cv2.rectangle(img,(215,90+170*a),(255,130+170*a),color=(0),thickness=-1)\n",
        "  cv2.arrowedLine(img,(355,90+170*a),(395,130+170*a),color=(0),thickness=3)\n",
        "  cv2.line(img,(515,90+170*a),(515,130+170*a),color=(0),thickness=3)\n",
        "  cv2.line(img,(495,110+170*a),(535,110+170*a),color=(0),thickness=3)\n",
        "  cv2.line(img,(635,90+170*a),(675,130+170*a),color=(0),thickness=3)\n",
        "  cv2.line(img,(635,130+170*a),(675,90+170*a),color=(0),thickness=3)\n",
        "cv2_imshow(img)\n",
        "def make_circle(a,b,c,img):\n",
        "  cv2.circle(img,(a,b),c,color=(0),thickness=-1)\n",
        "\n",
        "def make_rectangle(a,b,c,d,img):\n",
        "  cv2.rectangle(img,(a,b),(c,d),color=(0),thickness=-1)\n",
        "\n",
        "def make_ya(a,b,c,d,img):\n",
        "  cv2.arrowedLine(img,(a,b),(c,d),color=(0),thickness=3)\n",
        "\n",
        "def make_pulus(a,b,c,d,e,f,g,h,img):\n",
        "  cv2.line(img,(a,b),(c,d),color=(0),thickness=3)\n",
        "  cv2.line(img,(e,f),(g,h),color=(0),thickness=3)\n",
        "\n",
        "def make_batsu(a,b,c,d,e,f,g,h,img):\n",
        "  cv2.line(img,(a,b),(c,d),color=(0),thickness=3)\n",
        "  cv2.line(img,(e,f),(g,h),color=(0),thickness=3)\n",
        "\n",
        "print('この内から無作為に除かれた1枚のカードのマークを当てる。\\nゲーム開始時にお互いにそれぞれ3枚ずつカードが配られ，先手と後手を決めターン毎に交互にマークを答える。1ターン目のみカードを好きな枚数オープン(相手に見せる)でき，\\nオープンした枚数新たにカードを得られる。オープンするカードは画面の右側のカードからオープンされる。\\n先に除けれたカードのマークを当てた方の勝利。')\n",
        "print('スタート。\\n先手と後手を決めて，先手にパソコンを渡してください')"
      ],
      "metadata": {
        "id": "qnHg8bbUOXcg",
        "outputId": "318e1288-352a-4fcd-e255-09fe801728f2",
        "colab": {
          "base_uri": "https://localhost:8080/",
          "height": 713
        }
      },
      "execution_count": 2,
      "outputs": [
        {
          "output_type": "stream",
          "name": "stdout",
          "text": [
            "ルール説明\n",
            "5種類:◯,□,↘︎,＋,× それぞれ3枚ずつ計15枚のカードを使う。\n"
          ]
        },
        {
          "output_type": "display_data",
          "data": {
            "text/plain": [
              "<PIL.Image.Image image mode=RGB size=750x560 at 0x7F921574B9D0>"
            ],
            "image/png": "[encoded data removed]"
          },
          "metadata": {}
        },
        {
          "output_type": "stream",
          "name": "stdout",
          "text": [
            "この内から無作為に除かれた1枚のカードのマークを当てる。\n",
            "ゲーム開始時にお互いにそれぞれ3枚ずつカードが配られ，先手と後手を決めターン毎に交互にマークを答える。1ターン目のみカードを好きな枚数オープン(相手に見せる)でき，\n",
            "オープンした枚数新たにカードを得られる。オープンするカードは画面の右側のカードからオープンされる。\n",
            "先に除けれたカードのマークを当てた方の勝利。\n",
            "スタート。\n",
            "先手と後手を決めて，先手にパソコンを渡してください\n"
          ]
        }
      ]
    },
    {
      "cell_type": "code",
      "source": [
        "marklist=['○','□','↘︎','＋','×','○','□','↘︎','＋','×','○','□','↘︎','＋','×']\n",
        "num=np.random.randint(0,15)\n",
        "ans=marklist[num]\n",
        "marklist.pop(num)\n",
        "\n",
        "menum1=np.random.randint(0,14)\n",
        "mecard1=marklist[menum1]\n",
        "marklist.pop(menum1)\n",
        "\n",
        "menum2=np.random.randint(0,13)\n",
        "mecard2=marklist[menum2]\n",
        "marklist.pop(menum2)\n",
        "\n",
        "menum3=np.random.randint(0,12)\n",
        "mecard3=marklist[menum3]\n",
        "marklist.pop(menum3)\n",
        "\n",
        "younum1=np.random.randint(0,11)\n",
        "youcard1=marklist[younum1]\n",
        "marklist.pop(younum1)\n",
        "\n",
        "younum2=np.random.randint(0,10)\n",
        "youcard2=marklist[younum2]\n",
        "marklist.pop(younum2)\n",
        "\n",
        "younum3=np.random.randint(0,9)\n",
        "youcard3=marklist[younum3]\n",
        "marklist.pop(younum3)\n",
        "\n",
        "print('あなたのカード')\n",
        "img2 = np.zeros( (220, 470, 3), np.uint8 ) \n",
        "img2.fill( 255 )\n",
        "for i in range(3):\n",
        "  cv2.rectangle(img2,(50+140*i,50),(140+140*i,170),color=(0))\n",
        "if mecard1=='○':\n",
        "  make_circle(95,110,20,img2)\n",
        "elif mecard1=='□':\n",
        "  make_rectangle(75,90,115,130,img2)\n",
        "elif mecard1=='↘︎':\n",
        "  make_ya(75,90,115,130,img2)\n",
        "elif mecard1=='＋':\n",
        "  make_pulus(95,90,95,130,75,110,115,110,img2)\n",
        "elif mecard1=='×':\n",
        "  make_batsu(75,90,115,130,115,90,75,130,img2)\n",
        "if mecard2=='○':\n",
        "  make_circle(235,110,20,img2)\n",
        "elif mecard2=='□':\n",
        "  make_rectangle(215,90,255,130,img2)\n",
        "elif mecard2=='↘︎':\n",
        "  make_ya(215,90,255,130,img2)\n",
        "elif mecard2=='＋':\n",
        "  make_pulus(235,90,235,130,215,110,255,110,img2)\n",
        "elif mecard2=='×':\n",
        "  make_batsu(215,90,255,130,255,90,215,130,img2)\n",
        "if mecard3=='○':\n",
        "  make_circle(375,110,20,img2)\n",
        "elif mecard3=='□':\n",
        "  make_rectangle(355,90,395,130,img2)\n",
        "elif mecard3=='↘︎':\n",
        "  make_ya(355,90,395,130,img2)\n",
        "elif mecard3=='＋':\n",
        "  make_pulus(375,90,375,130,355,110,395,110,img2)\n",
        "elif mecard3=='×':\n",
        "  make_batsu(355,90,395,130,395,90,355,130,img2)\n",
        "cv2_imshow(img2)\n",
        "print('パソコンを渡してください')\n",
        "print(ans)"
      ],
      "metadata": {
        "id": "qzjcsHjy2hUr",
        "outputId": "390214f3-4dfb-4fa7-f585-a0f699465809",
        "colab": {
          "base_uri": "https://localhost:8080/",
          "height": 288
        }
      },
      "execution_count": 13,
      "outputs": [
        {
          "output_type": "stream",
          "name": "stdout",
          "text": [
            "あなたのカード\n"
          ]
        },
        {
          "output_type": "display_data",
          "data": {
            "text/plain": [
              "<PIL.Image.Image image mode=RGB size=470x220 at 0x7F9214C06F10>"
            ],
            "image/png": "[encoded data removed]"
          },
          "metadata": {}
        },
        {
          "output_type": "stream",
          "name": "stdout",
          "text": [
            "パソコンを渡してください\n",
            "□\n"
          ]
        }
      ]
    },
    {
      "cell_type": "code",
      "source": [
        "print('あなたのカード')\n",
        "img3 = np.zeros( (220, 470, 3), np.uint8 ) \n",
        "img3.fill( 255 )\n",
        "for i in range(3):\n",
        "  cv2.rectangle(img3,(50+140*i,50),(140+140*i,170),color=(0))\n",
        "if youcard1=='○':\n",
        "  make_circle(95,110,20,img3)\n",
        "elif youcard1=='□':\n",
        "  make_rectangle(75,90,115,130,img3)\n",
        "elif youcard1=='↘︎':\n",
        "  make_ya(75,90,115,130,img3)\n",
        "elif youcard1=='＋':\n",
        "  make_pulus(95,90,95,130,75,110,115,110,img3)\n",
        "elif youcard1=='×':\n",
        "  make_batsu(75,90,115,130,115,90,75,130,img3)\n",
        "if youcard2=='○':\n",
        "  make_circle(235,110,20,img3)\n",
        "elif youcard2=='□':\n",
        "  make_rectangle(215,90,255,130,img3)\n",
        "elif youcard2=='↘︎':\n",
        "  make_ya(215,90,255,130,img3)\n",
        "elif youcard2=='＋':\n",
        "  make_pulus(235,90,235,130,215,110,255,110,img3)\n",
        "elif youcard2=='×':\n",
        "  make_batsu(215,90,255,130,255,90,215,130,img3)\n",
        "if youcard3=='○':\n",
        "  make_circle(375,110,20,img3)\n",
        "elif youcard3=='□':\n",
        "  make_rectangle(355,90,395,130,img3)\n",
        "elif youcard3=='↘︎':\n",
        "  make_ya(355,90,395,130,img3)\n",
        "elif youcard3=='＋':\n",
        "  make_pulus(375,90,375,130,355,110,395,110,img3)\n",
        "elif youcard3=='×':\n",
        "  make_batsu(355,90,395,130,395,90,355,130,img3)\n",
        "cv2_imshow(img3)\n",
        "print('パソコンを渡してください\\n\\n\\n\\n\\n\\n\\n\\n\\n\\n\\n\\n')"
      ],
      "metadata": {
        "id": "3BgF19jtFb9s",
        "outputId": "6d508352-0c22-44c3-a145-e87c6a2239a8",
        "colab": {
          "base_uri": "https://localhost:8080/",
          "height": 475
        }
      },
      "execution_count": 14,
      "outputs": [
        {
          "output_type": "stream",
          "name": "stdout",
          "text": [
            "あなたのカード\n"
          ]
        },
        {
          "output_type": "display_data",
          "data": {
            "text/plain": [
              "<PIL.Image.Image image mode=RGB size=470x220 at 0x7F9214BFADF0>"
            ],
            "image/png": "[encoded data removed]"
          },
          "metadata": {}
        },
        {
          "output_type": "stream",
          "name": "stdout",
          "text": [
            "パソコンを渡してください\n",
            "\n",
            "\n",
            "\n",
            "\n",
            "\n",
            "\n",
            "\n",
            "\n",
            "\n",
            "\n",
            "\n",
            "\n"
          ]
        }
      ]
    },
    {
      "cell_type": "code",
      "source": [
        "img4 = np.zeros( (220, 470, 3), np.uint8 ) \n",
        "img4.fill( 255 )\n",
        "while True:\n",
        "  first_open=int(input('オープンするカードの枚数を入力してください '))\n",
        "  if first_open==0:\n",
        "    print('オープンしませんでした')\n",
        "    break\n",
        "  elif first_open==1:\n",
        "    print('パソコンを共有してください')\n",
        "    cv2.rectangle(img4,(50,50),(140,170),color=(0))\n",
        "    if mecard1=='○':\n",
        "      make_circle(95,110,20,img4)\n",
        "    elif mecard1=='□':\n",
        "      make_rectangle(75,90,115,130,img4)\n",
        "    elif mecard1=='↘︎':\n",
        "      make_ya(75,90,115,130,img4)\n",
        "    elif mecard1=='＋':\n",
        "      make_pulus(95,90,95,130,75,110,115,110,img4)\n",
        "    elif mecard1=='×':\n",
        "      make_batsu(75,90,115,130,115,90,75,130,img4)\n",
        "    cv2_imshow(img4)\n",
        "    print('オープンしたカードを見せたらパソコンを先手の人に渡してください')\n",
        "    break\n",
        "  elif first_open==2:\n",
        "    print('パソコンを共有してください')\n",
        "    for i in range(2):\n",
        "      cv2.rectangle(img4,(50+140*i,50),(140+140*i,170),color=(0))\n",
        "    if mecard1=='○':\n",
        "      make_circle(95,110,20,img4)\n",
        "    elif mecard1=='□':\n",
        "      make_rectangle(75,90,115,130,img4)\n",
        "    elif mecard1=='↘︎':\n",
        "      make_ya(75,90,115,130,img4)\n",
        "    elif mecard1=='＋':\n",
        "      make_pulus(95,90,95,130,75,110,115,110,img4)\n",
        "    elif mecard1=='×':\n",
        "      make_batsu(75,90,115,130,115,90,75,130,img4)\n",
        "    if mecard2=='○':\n",
        "      make_circle(235,110,20,img4)\n",
        "    elif mecard2=='□':\n",
        "      make_rectangle(215,90,255,130,img4)\n",
        "    elif mecard2=='↘︎':\n",
        "      make_ya(215,90,255,130,img4)\n",
        "    elif mecard2=='＋':\n",
        "      make_pulus(235,90,235,130,215,110,255,110,img4)\n",
        "    elif mecard2=='×':\n",
        "      make_batsu(215,90,255,130,255,90,215,130,img4)\n",
        "    cv2_imshow(img4)\n",
        "    print('オープンしたカードを見せたらパソコンを先手の人に渡してください')\n",
        "    break\n",
        "  elif first_open==3:\n",
        "    print('パソコンを共有してください')\n",
        "    cv2_imshow(img2)\n",
        "    print('オープンしたカードを見せたらパソコンを先手の人に渡してください')\n",
        "    break\n",
        "  else:\n",
        "    continue\n"
      ],
      "metadata": {
        "id": "YOMxJrJdHPsD",
        "outputId": "0bcc7e05-66a4-4e7e-ba80-5aa21975fb35",
        "colab": {
          "base_uri": "https://localhost:8080/",
          "height": 288
        }
      },
      "execution_count": 15,
      "outputs": [
        {
          "output_type": "stream",
          "name": "stdout",
          "text": [
            "オープンするカードの枚数を入力してください 1\n",
            "パソコンを共有してください\n"
          ]
        },
        {
          "output_type": "display_data",
          "data": {
            "text/plain": [
              "<PIL.Image.Image image mode=RGB size=470x220 at 0x7F9214BE9F70>"
            ],
            "image/png": "[encoded data removed]"
          },
          "metadata": {}
        },
        {
          "output_type": "stream",
          "name": "stdout",
          "text": [
            "オープンしたカードを見せたらパソコンを先手の人に渡してください\n"
          ]
        }
      ]
    },
    {
      "cell_type": "code",
      "source": [
        "img5 = np.zeros( (220, 470, 3), np.uint8 ) \n",
        "img5.fill( 255 )\n",
        "\n",
        "menum4=np.random.randint(0,8)\n",
        "mecard4=marklist[menum4]\n",
        "marklist.pop(menum4)\n",
        "\n",
        "menum5=np.random.randint(0,7)\n",
        "mecard5=marklist[menum5]\n",
        "marklist.pop(menum5)\n",
        "\n",
        "menum6=np.random.randint(0,6)\n",
        "mecard6=marklist[menum6]\n",
        "marklist.pop(menum6)\n",
        "\n",
        "print('オープンした枚数新たなカードを配ります')\n",
        "if first_open==0:\n",
        "  print('オープンしませんでした')\n",
        "elif first_open==1:\n",
        "  print('カードを1枚配ります')\n",
        "  cv2.rectangle(img5,(50,50),(140,170),color=(0))\n",
        "  if mecard4=='○':\n",
        "    make_circle(95,110,20,img5)\n",
        "  elif mecard4=='□':\n",
        "    make_rectangle(75,90,115,130,img5)\n",
        "  elif mecard4=='↘︎':\n",
        "    make_ya(75,90,115,130,img5)\n",
        "  elif mecard4=='＋':\n",
        "    make_pulus(95,90,95,130,75,110,115,110,img5)\n",
        "  elif mecard4=='×':\n",
        "    make_batsu(75,90,115,130,115,90,75,130,img5)\n",
        "  cv2_imshow(img5)\n",
        "elif first_open==2:\n",
        "  print('カードを2枚配ります')\n",
        "  for i in range(2):\n",
        "    cv2.rectangle(img5,(50+140*i,50),(140+140*i,170),color=(0))\n",
        "  if mecard4=='○':\n",
        "    make_circle(95,110,20,img5)\n",
        "  elif mecard4=='□':\n",
        "    make_rectangle(75,90,115,130,img5)\n",
        "  elif mecard4=='↘︎':\n",
        "    make_ya(75,90,115,130,img5)\n",
        "  elif mecard4=='＋':\n",
        "    make_pulus(95,90,95,130,75,110,115,110,img5)\n",
        "  elif mecard4=='×':\n",
        "    make_batsu(75,90,115,130,115,90,75,130,img5)\n",
        "  if mecard5=='○':\n",
        "    make_circle(235,110,20,img5)\n",
        "  elif mecard5=='□':\n",
        "    make_rectangle(215,90,255,130,img5)\n",
        "  elif mecard5=='↘︎':\n",
        "    make_ya(215,90,255,130,img5)\n",
        "  elif mecard5=='＋':\n",
        "    make_pulus(235,90,235,130,215,110,255,110,img5)\n",
        "  elif mecard5=='×':\n",
        "    make_batsu(215,90,255,130,255,90,215,130,img5)\n",
        "  cv2_imshow(img5)\n",
        "else:\n",
        "  print('カードを3枚配ります')\n",
        "  for i in range(3):\n",
        "    cv2.rectangle(img5,(50+140*i,50),(140+140*i,170),color=(0))\n",
        "  if mecard4=='○':\n",
        "    make_circle(95,110,20,img5)\n",
        "  elif mecard4=='□':\n",
        "    make_rectangle(75,90,115,130,img5)\n",
        "  elif mecard4=='↘︎':\n",
        "    make_ya(75,90,115,130,img5)\n",
        "  elif mecard4=='＋':\n",
        "    make_pulus(95,90,95,130,75,110,115,110,img5)\n",
        "  elif mecard4=='×':\n",
        "    make_batsu(75,90,115,130,115,90,75,130,img5)\n",
        "  if mecard5=='○':\n",
        "    make_circle(235,110,20,img5)\n",
        "  elif mecard5=='□':\n",
        "    make_rectangle(215,90,255,130,img5)\n",
        "  elif mecard5=='↘︎':\n",
        "    make_ya(215,90,255,130,img5)\n",
        "  elif mecard5=='＋':\n",
        "    make_pulus(235,90,235,130,215,110,255,110,img5)\n",
        "  elif mecard5=='×':\n",
        "    make_batsu(215,90,255,130,255,90,215,130,img5)\n",
        "  if mecard6=='○':\n",
        "    make_circle(375,110,20,img5)\n",
        "  elif mecard6=='□':\n",
        "    make_rectangle(355,90,395,130,img5)\n",
        "  elif mecard6=='↘︎':\n",
        "    make_ya(355,90,395,130,img5)\n",
        "  elif mecard6=='＋':\n",
        "    make_pulus(375,90,375,130,355,110,395,110,img5)\n",
        "  elif mecard6=='×':\n",
        "    make_batsu(355,90,395,130,395,90,355,130,img5)\n",
        "  cv2_imshow(img5)\n"
      ],
      "metadata": {
        "id": "TZXcckZ3lTC5",
        "outputId": "65626d84-c12f-4d64-a922-6ab6df94fbb0",
        "colab": {
          "base_uri": "https://localhost:8080/",
          "height": 271
        }
      },
      "execution_count": 16,
      "outputs": [
        {
          "output_type": "stream",
          "name": "stdout",
          "text": [
            "オープンした枚数新たなカードを配ります\n",
            "カードを1枚配ります\n"
          ]
        },
        {
          "output_type": "display_data",
          "data": {
            "text/plain": [
              "<PIL.Image.Image image mode=RGB size=470x220 at 0x7F9214BC40A0>"
            ],
            "image/png": "[encoded data removed]"
          },
          "metadata": {}
        }
      ]
    },
    {
      "cell_type": "code",
      "source": [
        "img7 = np.zeros( (220, 470, 3), np.uint8 ) \n",
        "img7.fill( 255 )\n",
        "\n",
        "younum4=np.random.randint(0,5)\n",
        "youcard4=marklist[younum4]\n",
        "marklist.pop(younum4)\n",
        "\n",
        "younum5=np.random.randint(0,4)\n",
        "youcard5=marklist[younum5]\n",
        "marklist.pop(younum5)\n",
        "\n",
        "younum6=np.random.randint(0,3)\n",
        "youcard6=marklist[younum6]\n",
        "marklist.pop(younum6)\n",
        "\n",
        "print('パソコンを共有してください')\n",
        "fans_1=int(input('正解のカードのマークの番号を選んでください。\\n1:○\\n2:□\\n3:↘︎\\n4:＋\\n5:×\\n'))   #先手の解答\n",
        "while True:\n",
        "  if fans_1==1:\n",
        "    fans_1='○'\n",
        "    if fans_1==ans:\n",
        "      print('正解')\n",
        "    else:\n",
        "      print('不正解。パソコンを後手の人に渡してください')\n",
        "    break\n",
        "  elif fans_1==2:\n",
        "    fans_1='□'\n",
        "    if fans_1==ans:\n",
        "      print('正解')\n",
        "    else:\n",
        "      print('不正解。パソコンを後手の人に渡してください')\n",
        "    break\n",
        "  elif fans_1==3:\n",
        "    fans_1='↘︎'\n",
        "    if fans_1==ans:\n",
        "      print('正解')\n",
        "    else:\n",
        "      print('不正解。パソコンを後手の人に渡してください')\n",
        "    break\n",
        "  elif fans_1==4:\n",
        "    fans_1='＋'\n",
        "    if fans_1==ans:\n",
        "      print('正解')\n",
        "    else:\n",
        "      print('不正解。パソコンを後手の人に渡してください')\n",
        "    break\n",
        "  elif fans_1==5:\n",
        "    fans_1='×'\n",
        "    if fans_1==ans:\n",
        "      print('正解')\n",
        "    else:\n",
        "      print('不正解。パソコンを後手の人に渡してください')\n",
        "    break\n",
        "  else:\n",
        "    continue\n",
        "\n",
        "if fans_1==ans:\n",
        "  print('ゲーム終了。')       #正解の時\n",
        "else: #不正解\n",
        "  img6 = np.zeros( (220, 470, 3), np.uint8 ) \n",
        "  img6.fill( 255 )\n",
        "  while True:\n",
        "    second_open=int(input('オープンするカードの枚数を入力してください '))\n",
        "    if second_open==0:\n",
        "      print('オープンしませんでした\\n\\n\\n\\n\\n\\n\\n')\n",
        "      break\n",
        "    elif second_open==1:\n",
        "      print('パソコンを共有してください')\n",
        "      cv2.rectangle(img6,(50,50),(140,170),color=(0))\n",
        "      if youcard1=='○':\n",
        "        make_circle(95,110,20,img6)\n",
        "      elif youcard1=='□':\n",
        "        make_rectangle(75,90,115,130,img6)\n",
        "      elif youcard1=='↘︎':\n",
        "        make_ya(75,90,115,130,img6)\n",
        "      elif youcard1=='＋':\n",
        "        make_pulus(95,90,95,130,75,110,115,110,img6)\n",
        "      elif youcard1=='×':\n",
        "        make_batsu(75,90,115,130,115,90,75,130,img6)\n",
        "      cv2_imshow(img4)\n",
        "      print('オープンしたカードを見せたらパソコンを先手の人に渡してください\\n\\n\\n\\n\\n\\n\\n\\n\\n\\n\\n')\n",
        "      break\n",
        "    elif second_open==2:\n",
        "      print('パソコンを共有してください')\n",
        "      for i in range(2):\n",
        "        cv2.rectangle(img6,(50+140*i,50),(140+140*i,170),color=(0))   \n",
        "      if youcard1=='○':\n",
        "        make_circle(95,110,20,img6)\n",
        "      elif youcard1=='□':\n",
        "        make_rectangle(75,90,115,130,img6)\n",
        "      elif youcard1=='↘︎':\n",
        "        make_ya(75,90,115,130,img6)\n",
        "      elif youcard1=='＋':\n",
        "        make_pulus(95,90,95,130,75,110,115,110,img6)\n",
        "      elif youcard1=='×':\n",
        "        make_batsu(75,90,115,130,115,90,75,130,img6)\n",
        "      if youcard2=='○':\n",
        "        make_circle(235,110,20,img6)\n",
        "      elif youcard2=='□':\n",
        "        make_rectangle(215,90,255,130,img6)\n",
        "      elif youcard2=='↘︎':\n",
        "        make_ya(215,90,255,130,img6)\n",
        "      elif youcard2=='＋':\n",
        "        make_pulus(235,90,235,130,215,110,255,110,img6)\n",
        "      elif youcard2=='×':\n",
        "        make_batsu(215,90,255,130,255,90,215,130,img6)\n",
        "      cv2_imshow(img6)\n",
        "      print('オープンしたカードを見せたらパソコンを先手の人に渡してください\\n\\n\\n\\n\\n\\n\\n\\n\\n\\n\\n')\n",
        "      break\n",
        "    elif second_open==3:\n",
        "      print('パソコンを共有してください')\n",
        "      cv2_imshow(img3)\n",
        "      print('オープンしたカードを見せたらパソコンを後手の人に渡してください\\n\\n\\n\\n\\n\\n\\n\\n\\n\\n\\n')\n",
        "      break\n",
        "    else:\n",
        "      continue\n",
        "  print('オープンした枚数新たなカードを配ります')\n",
        "  if second_open==0:\n",
        "    print('オープンしませんでした')\n",
        "  elif second_open==1:\n",
        "    print('カードを1枚配ります')\n",
        "    cv2.rectangle(img7,(50,50),(140,170),color=(0))\n",
        "    if youcard4=='○':\n",
        "      make_circle(95,110,20,img7)\n",
        "    elif youcard4=='□':\n",
        "      make_rectangle(75,90,115,130,img7)\n",
        "    elif youcard4=='↘︎':\n",
        "      make_ya(75,90,115,130,img7)\n",
        "    elif youcard4=='＋':\n",
        "      make_pulus(95,90,95,130,75,110,115,110,img7)\n",
        "    elif youcard4=='×':\n",
        "      make_batsu(75,90,115,130,115,90,75,130,img7)\n",
        "    cv2_imshow(img7)\n",
        "  elif first_open==2:\n",
        "    print('カードを2枚配ります')\n",
        "    for i in range(2):\n",
        "      cv2.rectangle(img7,(50+140*i,50),(140+140*i,170),color=(0))\n",
        "    if youcard4=='○':\n",
        "      make_circle(95,110,20,img7)\n",
        "    elif youcard4=='□':\n",
        "      make_rectangle(75,90,115,130,img7)\n",
        "    elif youcard4=='↘︎':\n",
        "      make_ya(75,90,115,130,img7)\n",
        "    elif youcard4=='＋':\n",
        "      make_pulus(95,90,95,130,75,110,115,110,img7)\n",
        "    elif youcard4=='×':\n",
        "      make_batsu(75,90,115,130,115,90,75,130,img7)\n",
        "    if youcard5=='○':\n",
        "      make_circle(235,110,20,img7)\n",
        "    elif youcard5=='□':\n",
        "      make_rectangle(215,90,255,130,img7)\n",
        "    elif youcard5=='↘︎':\n",
        "      make_ya(215,90,255,130,img7)\n",
        "    elif youcard5=='＋':\n",
        "      make_pulus(235,90,235,130,215,110,255,110,img7)\n",
        "    elif youcard5=='×':\n",
        "      make_batsu(215,90,255,130,255,90,215,130,img7)\n",
        "    cv2_imshow(img7)\n",
        "  else:\n",
        "    print('カードを3枚配ります')\n",
        "    for i in range(3):\n",
        "      cv2.rectangle(img7,(50+140*i,50),(140+140*i,170),color=(0))\n",
        "    if youcard4=='○':\n",
        "      make_circle(95,110,20,img7)\n",
        "    elif youcard4=='□':\n",
        "      make_rectangle(75,90,115,130,img7)\n",
        "    elif youcard4=='↘︎':\n",
        "      make_ya(75,90,115,130,img7)\n",
        "    elif youcard4=='＋':\n",
        "      make_pulus(95,90,95,130,75,110,115,110,img7)\n",
        "    elif youcard4=='×':\n",
        "      make_batsu(75,90,115,130,115,90,75,130,img7)\n",
        "    if youcard5=='○':\n",
        "      make_circle(235,110,20,img7)\n",
        "    elif youcard5=='□':\n",
        "      make_rectangle(215,90,255,130,img7)\n",
        "    elif youcard5=='↘︎':\n",
        "      make_ya(215,90,255,130,img7)\n",
        "    elif youcard5=='＋':\n",
        "      make_pulus(235,90,235,130,215,110,255,110,img7)\n",
        "    elif youcard5=='×':\n",
        "      make_batsu(215,90,255,130,255,90,215,130,img7)\n",
        "    if youcard6=='○':\n",
        "      make_circle(375,110,20,img7)\n",
        "    elif youcard6=='□':\n",
        "      make_rectangle(355,90,395,130,img7)\n",
        "    elif youcard6=='↘︎':\n",
        "      make_ya(355,90,395,130,img7)\n",
        "    elif youcard6=='＋':\n",
        "      make_pulus(375,90,375,130,355,110,395,110,img7)\n",
        "    elif youcard6=='×':\n",
        "      make_batsu(355,90,395,130,395,90,355,130,img7)\n",
        "    cv2_imshow(img7)                                            #後手のオープン終了\n",
        "\n",
        "  print('パソコンを共有してください')\n",
        "  sans_1=int(input('正解のカードのマークの番号を選んでください。\\n1:○\\n2:□\\n3:↘︎\\n4:＋\\n5:×\\n')) #後手の解答\n",
        "  while True:\n",
        "    if sans_1==1:\n",
        "      sans_1='○'\n",
        "      if sans_1==ans:\n",
        "        print('正解。ゲーム終了です。')\n",
        "      else:\n",
        "        print('不正解。パソコンを先手の人に渡してください')\n",
        "      break\n",
        "    elif sans_1==2:\n",
        "      sans_1='□'\n",
        "      if sans_1==ans:\n",
        "        print('正解。ゲーム終了です。')\n",
        "      else:\n",
        "        print('不正解。パソコンを先手の人に渡してください')\n",
        "      break\n",
        "    elif sans_1==3:\n",
        "      sans_1='↘︎'\n",
        "      if sans_1==ans:\n",
        "        print('正解。ゲーム終了です。')\n",
        "      else:\n",
        "        print('不正解。パソコンを先手の人に渡してください')\n",
        "      break\n",
        "    elif sans_1==4:\n",
        "      sans_1='＋'\n",
        "      if sans_1==ans:\n",
        "        print('正解。ゲーム終了です。')\n",
        "      else:\n",
        "        print('不正解。パソコンを先手の人に渡してください')\n",
        "      break\n",
        "    elif sans_1==5:\n",
        "      sans_1='×'\n",
        "      if sans_1==ans:\n",
        "        print('正解。ゲーム終了です。')\n",
        "      else:\n",
        "        print('不正解。パソコンを先手の人に渡してください')\n",
        "      break\n",
        "    else:\n",
        "      continue\n",
        "\n"
      ],
      "metadata": {
        "id": "rkVoI7ih8LO4",
        "outputId": "ed955285-d261-4408-da19-ef62119389c2",
        "colab": {
          "base_uri": "https://localhost:8080/",
          "height": 1000
        }
      },
      "execution_count": 17,
      "outputs": [
        {
          "output_type": "stream",
          "name": "stdout",
          "text": [
            "パソコンを共有してください\n",
            "正解のカードのマークの番号を選んでください。\n",
            "1:○\n",
            "2:□\n",
            "3:↘︎\n",
            "4:＋\n",
            "5:×\n",
            "1\n",
            "不正解。パソコンを後手の人に渡してください\n",
            "オープンするカードの枚数を入力してください 3\n",
            "パソコンを共有してください\n"
          ]
        },
        {
          "output_type": "display_data",
          "data": {
            "text/plain": [
              "<PIL.Image.Image image mode=RGB size=470x220 at 0x7F92247C8D00>"
            ],
            "image/png": "[encoded data removed]"
          },
          "metadata": {}
        },
        {
          "output_type": "stream",
          "name": "stdout",
          "text": [
            "オープンしたカードを見せたらパソコンを後手の人に渡してください\n",
            "\n",
            "\n",
            "\n",
            "\n",
            "\n",
            "\n",
            "\n",
            "\n",
            "\n",
            "\n",
            "\n",
            "オープンした枚数新たなカードを配ります\n",
            "カードを3枚配ります\n"
          ]
        },
        {
          "output_type": "display_data",
          "data": {
            "text/plain": [
              "<PIL.Image.Image image mode=RGB size=470x220 at 0x7F92157FD8B0>"
            ],
            "image/png": "[encoded data removed]"
          },
          "metadata": {}
        },
        {
          "output_type": "stream",
          "name": "stdout",
          "text": [
            "パソコンを共有してください\n",
            "正解のカードのマークの番号を選んでください。\n",
            "1:○\n",
            "2:□\n",
            "3:↘︎\n",
            "4:＋\n",
            "5:×\n",
            "5\n",
            "不正解。パソコンを先手の人に渡してください\n"
          ]
        }
      ]
    },
    {
      "cell_type": "code",
      "source": [
        "while True:\n",
        "  while True:\n",
        "    fans_2=fans_2=int(input('正解のカードのマークの番号を選んでください。\\n1:○\\n2:□\\n3:↘︎\\n4:＋\\n5:×\\n'))\n",
        "    if fans_2==1:\n",
        "      fans_2=='○'\n",
        "      if fans==ans:\n",
        "        print('正解。ゲーム終了です。')\n",
        "      else:\n",
        "        print('不正解。パソコンを後手の人に渡してください')\n",
        "      break\n",
        "    "
      ],
      "metadata": {
        "id": "xtbecpNHi0hX"
      },
      "execution_count": null,
      "outputs": []
    }
  ]
}