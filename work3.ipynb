{
  "nbformat": 4,
  "nbformat_minor": 0,
  "metadata": {
    "colab": {
      "provenance": [],
      "authorship_tag": "ABX9TyNaAMhwiCOBIAQye1CZc3JA",
      "include_colab_link": true
    },
    "kernelspec": {
      "name": "python3",
      "display_name": "Python 3"
    },
    "language_info": {
      "name": "python"
    }
  },
  "cells": [
    {
      "cell_type": "markdown",
      "metadata": {
        "id": "view-in-github",
        "colab_type": "text"
      },
      "source": [
        "<a href=\"https://colab.research.google.com/github/kooosee/Prog2kakushin/blob/main/work3.ipynb\" target=\"_parent\"><img src=\"https://colab.research.google.com/assets/colab-badge.svg\" alt=\"Open In Colab\"/></a>"
      ]
    },
    {
      "cell_type": "markdown",
      "source": [
        "## turtleを使って絵を描く\n",
        "\n"
      ],
      "metadata": {
        "id": "uZFU0g0i8wsr"
      }
    },
    {
      "cell_type": "code",
      "source": [
        "!pip3 install ColabTurtlePlus\n",
        "from ColabTurtlePlus.Turtle import *\n"
      ],
      "metadata": {
        "id": "9CRPJh_1Rl55",
        "outputId": "3ee5e9af-a2c5-43bc-c147-cd3f5fa6b279",
        "colab": {
          "base_uri": "https://localhost:8080/"
        }
      },
      "execution_count": 1,
      "outputs": [
        {
          "output_type": "stream",
          "name": "stdout",
          "text": [
            "Looking in indexes: https://pypi.org/simple, https://us-python.pkg.dev/colab-wheels/public/simple/\n",
            "Collecting ColabTurtlePlus\n",
            "  Downloading ColabTurtlePlus-2.0.1-py3-none-any.whl (31 kB)\n",
            "Installing collected packages: ColabTurtlePlus\n",
            "Successfully installed ColabTurtlePlus-2.0.1\n",
            "Put clearscreen() as the first line in a cell (after the import command) to re-run turtle commands in the cell\n"
          ]
        }
      ]
    },
    {
      "cell_type": "code",
      "source": [
        "clearscreen()\n",
        "setup(2000,800)\n",
        "turtle1=Turtle()\n",
        "turtle1.shape('turtle')\n",
        "turtle1.speed(13)\n",
        "turtle1.penup()\n",
        "turtle1.goto(-900,-350)\n",
        "turtle1.pendown()\n",
        "def koh(n,length):\n",
        "  if n==0:\n",
        "    turtle1.forward(length)\n",
        "    return\n",
        "  length2=length/3\n",
        "  koh(n-1,length2)\n",
        "  turtle1.left(60)\n",
        "  koh(n-1,length2)\n",
        "  turtle1.right(120)\n",
        "  koh(n-1,length2)\n",
        "  turtle1.left(60)\n",
        "  koh(n-1,length2)\n",
        "print('コッホ曲線')\n",
        "n=int(input('字数を入力してください '))\n",
        "length=1000\n",
        "koh(n,length)"
      ],
      "metadata": {
        "id": "zpgy8VZtvYlL",
        "outputId": "68853242-79c5-4194-cedf-2cbd6bbc2283",
        "colab": {
          "base_uri": "https://localhost:8080/",
          "height": 875
        }
      },
      "execution_count": 11,
      "outputs": [
        {
          "output_type": "display_data",
          "data": {
            "text/plain": [
              "<IPython.core.display.HTML object>"
            ],
            "text/html": [
              "\n",
              "      <svg width=\"2000\" height=\"800\">  \n",
              "        <rect width=\"100%\" height=\"100%\" style=\"fill:white;stroke:;stroke-width:1\"/>\n",
              "        \n",
              "        \n",
              "        <line x1=\"100.0\" y1=\"750.0\" x2=\"137.037\" y2=\"750.0\" stroke-linecap=\"round\" style=\"stroke:black;stroke-width:1\" /><line x1=\"137.037\" y1=\"750.0\" x2=\"155.556\" y2=\"717.925\" stroke-linecap=\"round\" style=\"stroke:black;stroke-width:1\" /><line x1=\"155.556\" y1=\"717.925\" x2=\"174.075\" y2=\"750.0\" stroke-linecap=\"round\" style=\"stroke:black;stroke-width:1\" /><line x1=\"174.075\" y1=\"750.0\" x2=\"211.112\" y2=\"750.0\" stroke-linecap=\"round\" style=\"stroke:black;stroke-width:1\" /><line x1=\"211.112\" y1=\"750.0\" x2=\"229.631\" y2=\"717.925\" stroke-linecap=\"round\" style=\"stroke:black;stroke-width:1\" /><line x1=\"229.631\" y1=\"717.925\" x2=\"211.112\" y2=\"685.85\" stroke-linecap=\"round\" style=\"stroke:black;stroke-width:1\" /><line x1=\"211.112\" y1=\"685.85\" x2=\"248.149\" y2=\"685.85\" stroke-linecap=\"round\" style=\"stroke:black;stroke-width:1\" /><line x1=\"248.149\" y1=\"685.85\" x2=\"266.668\" y2=\"653.775\" stroke-linecap=\"round\" style=\"stroke:black;stroke-width:1\" /><line x1=\"266.668\" y1=\"653.775\" x2=\"285.187\" y2=\"685.85\" stroke-linecap=\"round\" style=\"stroke:black;stroke-width:1\" /><line x1=\"285.187\" y1=\"685.85\" x2=\"322.224\" y2=\"685.85\" stroke-linecap=\"round\" style=\"stroke:black;stroke-width:1\" /><line x1=\"322.224\" y1=\"685.85\" x2=\"303.705\" y2=\"717.925\" stroke-linecap=\"round\" style=\"stroke:black;stroke-width:1\" /><line x1=\"303.705\" y1=\"717.925\" x2=\"322.224\" y2=\"750.0\" stroke-linecap=\"round\" style=\"stroke:black;stroke-width:1\" /><line x1=\"322.224\" y1=\"750.0\" x2=\"359.261\" y2=\"750.0\" stroke-linecap=\"round\" style=\"stroke:black;stroke-width:1\" /><line x1=\"359.261\" y1=\"750.0\" x2=\"377.78\" y2=\"717.925\" stroke-linecap=\"round\" style=\"stroke:black;stroke-width:1\" /><line x1=\"377.78\" y1=\"717.925\" x2=\"396.299\" y2=\"750.0\" stroke-linecap=\"round\" style=\"stroke:black;stroke-width:1\" /><line x1=\"396.299\" y1=\"750.0\" x2=\"433.336\" y2=\"750.0\" stroke-linecap=\"round\" style=\"stroke:black;stroke-width:1\" /><line x1=\"433.336\" y1=\"750.0\" x2=\"451.855\" y2=\"717.925\" stroke-linecap=\"round\" style=\"stroke:black;stroke-width:1\" /><line x1=\"451.855\" y1=\"717.925\" x2=\"433.336\" y2=\"685.85\" stroke-linecap=\"round\" style=\"stroke:black;stroke-width:1\" /><line x1=\"433.336\" y1=\"685.85\" x2=\"470.373\" y2=\"685.85\" stroke-linecap=\"round\" style=\"stroke:black;stroke-width:1\" /><line x1=\"470.373\" y1=\"685.85\" x2=\"488.892\" y2=\"653.775\" stroke-linecap=\"round\" style=\"stroke:black;stroke-width:1\" /><line x1=\"488.892\" y1=\"653.775\" x2=\"470.373\" y2=\"621.7\" stroke-linecap=\"round\" style=\"stroke:black;stroke-width:1\" /><line x1=\"470.373\" y1=\"621.7\" x2=\"433.336\" y2=\"621.7\" stroke-linecap=\"round\" style=\"stroke:black;stroke-width:1\" /><line x1=\"433.336\" y1=\"621.7\" x2=\"451.855\" y2=\"589.625\" stroke-linecap=\"round\" style=\"stroke:black;stroke-width:1\" /><line x1=\"451.855\" y1=\"589.625\" x2=\"433.336\" y2=\"557.55\" stroke-linecap=\"round\" style=\"stroke:black;stroke-width:1\" /><line x1=\"433.336\" y1=\"557.55\" x2=\"470.373\" y2=\"557.55\" stroke-linecap=\"round\" style=\"stroke:black;stroke-width:1\" /><line x1=\"470.373\" y1=\"557.55\" x2=\"488.892\" y2=\"525.475\" stroke-linecap=\"round\" style=\"stroke:black;stroke-width:1\" /><line x1=\"488.892\" y1=\"525.475\" x2=\"507.411\" y2=\"557.55\" stroke-linecap=\"round\" style=\"stroke:black;stroke-width:1\" /><line x1=\"507.411\" y1=\"557.55\" x2=\"544.448\" y2=\"557.55\" stroke-linecap=\"round\" style=\"stroke:black;stroke-width:1\" /><line x1=\"544.448\" y1=\"557.55\" x2=\"562.967\" y2=\"525.475\" stroke-linecap=\"round\" style=\"stroke:black;stroke-width:1\" /><line x1=\"562.967\" y1=\"525.475\" x2=\"544.448\" y2=\"493.4\" stroke-linecap=\"round\" style=\"stroke:black;stroke-width:1\" /><line x1=\"544.448\" y1=\"493.4\" x2=\"581.485\" y2=\"493.4\" stroke-linecap=\"round\" style=\"stroke:black;stroke-width:1\" /><line x1=\"581.485\" y1=\"493.4\" x2=\"600.004\" y2=\"461.325\" stroke-linecap=\"round\" style=\"stroke:black;stroke-width:1\" /><line x1=\"600.004\" y1=\"461.325\" x2=\"618.523\" y2=\"493.4\" stroke-linecap=\"round\" style=\"stroke:black;stroke-width:1\" /><line x1=\"618.523\" y1=\"493.4\" x2=\"655.56\" y2=\"493.4\" stroke-linecap=\"round\" style=\"stroke:black;stroke-width:1\" /><line x1=\"655.56\" y1=\"493.4\" x2=\"637.041\" y2=\"525.475\" stroke-linecap=\"round\" style=\"stroke:black;stroke-width:1\" /><line x1=\"637.041\" y1=\"525.475\" x2=\"655.56\" y2=\"557.55\" stroke-linecap=\"round\" style=\"stroke:black;stroke-width:1\" /><line x1=\"655.56\" y1=\"557.55\" x2=\"692.597\" y2=\"557.55\" stroke-linecap=\"round\" style=\"stroke:black;stroke-width:1\" /><line x1=\"692.597\" y1=\"557.55\" x2=\"711.116\" y2=\"525.475\" stroke-linecap=\"round\" style=\"stroke:black;stroke-width:1\" /><line x1=\"711.116\" y1=\"525.475\" x2=\"729.635\" y2=\"557.55\" stroke-linecap=\"round\" style=\"stroke:black;stroke-width:1\" /><line x1=\"729.635\" y1=\"557.55\" x2=\"766.672\" y2=\"557.55\" stroke-linecap=\"round\" style=\"stroke:black;stroke-width:1\" /><line x1=\"766.672\" y1=\"557.55\" x2=\"748.153\" y2=\"589.625\" stroke-linecap=\"round\" style=\"stroke:black;stroke-width:1\" /><line x1=\"748.153\" y1=\"589.625\" x2=\"766.672\" y2=\"621.7\" stroke-linecap=\"round\" style=\"stroke:black;stroke-width:1\" /><line x1=\"766.672\" y1=\"621.7\" x2=\"729.635\" y2=\"621.7\" stroke-linecap=\"round\" style=\"stroke:black;stroke-width:1\" /><line x1=\"729.635\" y1=\"621.7\" x2=\"711.116\" y2=\"653.775\" stroke-linecap=\"round\" style=\"stroke:black;stroke-width:1\" /><line x1=\"711.116\" y1=\"653.775\" x2=\"729.635\" y2=\"685.85\" stroke-linecap=\"round\" style=\"stroke:black;stroke-width:1\" /><line x1=\"729.635\" y1=\"685.85\" x2=\"766.672\" y2=\"685.85\" stroke-linecap=\"round\" style=\"stroke:black;stroke-width:1\" /><line x1=\"766.672\" y1=\"685.85\" x2=\"748.153\" y2=\"717.925\" stroke-linecap=\"round\" style=\"stroke:black;stroke-width:1\" /><line x1=\"748.153\" y1=\"717.925\" x2=\"766.672\" y2=\"750.0\" stroke-linecap=\"round\" style=\"stroke:black;stroke-width:1\" /><line x1=\"766.672\" y1=\"750.0\" x2=\"803.709\" y2=\"750.0\" stroke-linecap=\"round\" style=\"stroke:black;stroke-width:1\" /><line x1=\"803.709\" y1=\"750.0\" x2=\"822.228\" y2=\"717.925\" stroke-linecap=\"round\" style=\"stroke:black;stroke-width:1\" /><line x1=\"822.228\" y1=\"717.925\" x2=\"840.747\" y2=\"750.0\" stroke-linecap=\"round\" style=\"stroke:black;stroke-width:1\" /><line x1=\"840.747\" y1=\"750.0\" x2=\"877.784\" y2=\"750.0\" stroke-linecap=\"round\" style=\"stroke:black;stroke-width:1\" /><line x1=\"877.784\" y1=\"750.0\" x2=\"896.303\" y2=\"717.925\" stroke-linecap=\"round\" style=\"stroke:black;stroke-width:1\" /><line x1=\"896.303\" y1=\"717.925\" x2=\"877.784\" y2=\"685.85\" stroke-linecap=\"round\" style=\"stroke:black;stroke-width:1\" /><line x1=\"877.784\" y1=\"685.85\" x2=\"914.821\" y2=\"685.85\" stroke-linecap=\"round\" style=\"stroke:black;stroke-width:1\" /><line x1=\"914.821\" y1=\"685.85\" x2=\"933.34\" y2=\"653.775\" stroke-linecap=\"round\" style=\"stroke:black;stroke-width:1\" /><line x1=\"933.34\" y1=\"653.775\" x2=\"951.859\" y2=\"685.85\" stroke-linecap=\"round\" style=\"stroke:black;stroke-width:1\" /><line x1=\"951.859\" y1=\"685.85\" x2=\"988.896\" y2=\"685.85\" stroke-linecap=\"round\" style=\"stroke:black;stroke-width:1\" /><line x1=\"988.896\" y1=\"685.85\" x2=\"970.377\" y2=\"717.925\" stroke-linecap=\"round\" style=\"stroke:black;stroke-width:1\" /><line x1=\"970.377\" y1=\"717.925\" x2=\"988.896\" y2=\"750.0\" stroke-linecap=\"round\" style=\"stroke:black;stroke-width:1\" /><line x1=\"988.896\" y1=\"750.0\" x2=\"1025.933\" y2=\"750.0\" stroke-linecap=\"round\" style=\"stroke:black;stroke-width:1\" /><line x1=\"1025.933\" y1=\"750.0\" x2=\"1044.452\" y2=\"717.925\" stroke-linecap=\"round\" style=\"stroke:black;stroke-width:1\" /><line x1=\"1044.452\" y1=\"717.925\" x2=\"1062.971\" y2=\"750.0\" stroke-linecap=\"round\" style=\"stroke:black;stroke-width:1\" /><line x1=\"1062.971\" y1=\"750.0\" x2=\"1072.971\" y2=\"750.0\" stroke-linecap=\"round\" style=\"stroke:black;stroke-width:1\" /><line x1=\"1072.971\" y1=\"750.0\" x2=\"1082.971\" y2=\"750.0\" stroke-linecap=\"round\" style=\"stroke:black;stroke-width:1\" /><line x1=\"1082.971\" y1=\"750.0\" x2=\"1092.971\" y2=\"750.0\" stroke-linecap=\"round\" style=\"stroke:black;stroke-width:1\" /><line x1=\"1092.971\" y1=\"750.0\" x2=\"1100.008037037037\" y2=\"750.0\" stroke-linecap=\"round\" style=\"stroke:black;stroke-width:1\" />\n",
              "        \n",
              "        \n",
              "        <g id=\"turtle\" visibility=\"visible\" transform=\"rotate(90,1100.008037037037,750.0) translate(1100.008037037037, 750.0)\">\n",
              "<path style=\"stroke:black;fill-rule:evenodd;fill:black;fill-opacity:1;\" transform=\"skewX(0) scale(1,1)\" d=\"m 1.1536693,-18.56101 c -2.105469,1.167969 -3.203125,3.441407 -3.140625,6.5 l 0.011719,0.519532 -0.300782,-0.15625 c -1.308594,-0.671875 -2.828125,-0.824219 -4.378906,-0.429688 -1.9375,0.484375 -3.8906253,2.089844 -6.0117193,4.9257825 -1.332031,1.785156 -1.714843,2.644531 -1.351562,3.035156 l 0.113281,0.125 h 0.363281 c 0.71875,0 1.308594,-0.265625 4.6679693,-2.113282 1.199219,-0.660156 2.183594,-1.199218 2.191406,-1.199218 0.00781,0 -0.023437,0.089844 -0.074218,0.195312 -0.472657,1.058594 -1.046876,2.785156 -1.335938,4.042969 -1.054688,4.574219 -0.351562,8.453125 2.101562,11.582031 0.28125,0.355469 0.292969,0.253906 -0.097656,0.722656 -2.046875,2.4609375 -3.027344,4.8984375 -2.734375,6.8046875 0.050781,0.339844 0.042969,0.335938 0.679688,0.335938 2.023437,0 4.15625,-1.316407 6.21875,-3.835938 0.222656,-0.269531 0.191406,-0.261719 0.425781,-0.113281 0.730469,0.46875 2.460938,1.390625 2.613281,1.390625 0.160157,0 1.765625,-0.753906 2.652344,-1.246094 0.167969,-0.09375 0.308594,-0.164062 0.308594,-0.160156 0.066406,0.105468 0.761719,0.855468 1.085937,1.171875 1.613282,1.570312 3.339844,2.402343 5.3593747,2.570312 0.324219,0.02734 0.355469,0.0078 0.425781,-0.316406 0.375,-1.742187 -0.382812,-4.058594 -2.1445307,-6.5585935 l -0.320312,-0.457031 0.15625,-0.183594 c 3.2460927,-3.824218 3.4335927,-9.08593704 0.558593,-15.816406 l -0.050781,-0.125 1.7382807,0.859375 c 3.585938,1.773437 4.371094,2.097656 5.085938,2.097656 0.945312,0 0.75,-0.863281 -0.558594,-2.507812 C 11.458356,-11.838353 8.3333563,-13.268041 4.8607003,-11.721166 l -0.363281,0.164063 0.019531,-0.09375 c 0.121094,-0.550781 0.183594,-1.800781 0.121094,-2.378907 -0.203125,-1.867187 -1.035157,-3.199218 -2.695313,-4.308593 -0.523437,-0.351563 -0.546875,-0.355469 -0.789062,-0.222657\" />\n",
              "</g>\n",
              "      </svg>\n",
              "    "
            ]
          },
          "metadata": {}
        },
        {
          "name": "stdout",
          "output_type": "stream",
          "text": [
            "コッホ曲線\n",
            "字数を入力してください 3\n"
          ]
        }
      ]
    },
    {
      "cell_type": "code",
      "source": [
        "clearscreen()\n",
        "setup(2000,800)\n",
        "turtle1=Turtle()\n",
        "turtle1.shape('turtle')\n",
        "turtle1.speed(13)\n",
        "turtle1.penup()\n",
        "turtle1.goto(-900,-350)\n",
        "turtle1.pendown()\n",
        "def kohh(n,length):\n",
        "  if n==0:\n",
        "    turtle1.forward(length)\n",
        "  while n>0:\n",
        "    length=length/3\n",
        "    n-=1\n",
        "print('コッホ曲線')\n",
        "n=int(input('字数を入力してください '))\n",
        "length=1000\n",
        "kohh(n,length)\n",
        "turtle1.left(60)\n",
        "kohh(n,length)\n",
        "turtle1.right(120)\n",
        "kohh(n,length)\n",
        "turtle1.left(60)\n",
        "kohh(n,length)"
      ],
      "metadata": {
        "id": "sav7IqSZ7kh2",
        "outputId": "663022e7-ffc6-4cfe-c32a-c40eb86c2077",
        "colab": {
          "base_uri": "https://localhost:8080/",
          "height": 875
        }
      },
      "execution_count": 10,
      "outputs": [
        {
          "output_type": "display_data",
          "data": {
            "text/plain": [
              "<IPython.core.display.HTML object>"
            ],
            "text/html": [
              "\n",
              "      <svg width=\"2000\" height=\"800\">  \n",
              "        <rect width=\"100%\" height=\"100%\" style=\"fill:white;stroke:;stroke-width:1\"/>\n",
              "        \n",
              "        \n",
              "        \n",
              "        \n",
              "        \n",
              "        <g id=\"turtle\" visibility=\"visible\" transform=\"rotate(150,100.0,750.0) translate(100.0, 750.0)\">\n",
              "<path style=\"stroke:black;fill-rule:evenodd;fill:black;fill-opacity:1;\" transform=\"skewX(0) scale(1,1)\" d=\"m 1.1536693,-18.56101 c -2.105469,1.167969 -3.203125,3.441407 -3.140625,6.5 l 0.011719,0.519532 -0.300782,-0.15625 c -1.308594,-0.671875 -2.828125,-0.824219 -4.378906,-0.429688 -1.9375,0.484375 -3.8906253,2.089844 -6.0117193,4.9257825 -1.332031,1.785156 -1.714843,2.644531 -1.351562,3.035156 l 0.113281,0.125 h 0.363281 c 0.71875,0 1.308594,-0.265625 4.6679693,-2.113282 1.199219,-0.660156 2.183594,-1.199218 2.191406,-1.199218 0.00781,0 -0.023437,0.089844 -0.074218,0.195312 -0.472657,1.058594 -1.046876,2.785156 -1.335938,4.042969 -1.054688,4.574219 -0.351562,8.453125 2.101562,11.582031 0.28125,0.355469 0.292969,0.253906 -0.097656,0.722656 -2.046875,2.4609375 -3.027344,4.8984375 -2.734375,6.8046875 0.050781,0.339844 0.042969,0.335938 0.679688,0.335938 2.023437,0 4.15625,-1.316407 6.21875,-3.835938 0.222656,-0.269531 0.191406,-0.261719 0.425781,-0.113281 0.730469,0.46875 2.460938,1.390625 2.613281,1.390625 0.160157,0 1.765625,-0.753906 2.652344,-1.246094 0.167969,-0.09375 0.308594,-0.164062 0.308594,-0.160156 0.066406,0.105468 0.761719,0.855468 1.085937,1.171875 1.613282,1.570312 3.339844,2.402343 5.3593747,2.570312 0.324219,0.02734 0.355469,0.0078 0.425781,-0.316406 0.375,-1.742187 -0.382812,-4.058594 -2.1445307,-6.5585935 l -0.320312,-0.457031 0.15625,-0.183594 c 3.2460927,-3.824218 3.4335927,-9.08593704 0.558593,-15.816406 l -0.050781,-0.125 1.7382807,0.859375 c 3.585938,1.773437 4.371094,2.097656 5.085938,2.097656 0.945312,0 0.75,-0.863281 -0.558594,-2.507812 C 11.458356,-11.838353 8.3333563,-13.268041 4.8607003,-11.721166 l -0.363281,0.164063 0.019531,-0.09375 c 0.121094,-0.550781 0.183594,-1.800781 0.121094,-2.378907 -0.203125,-1.867187 -1.035157,-3.199218 -2.695313,-4.308593 -0.523437,-0.351563 -0.546875,-0.355469 -0.789062,-0.222657\" />\n",
              "<animateTransform id = \"one\" attributeName=\"transform\" \n",
              "                      type=\"scale\"\n",
              "                      from=\"1 1\" to=\"1 1\"\n",
              "                      begin=\"0s\" dur=\"0.01s\"\n",
              "                      repeatCount=\"1\"\n",
              "                      additive=\"sum\"\n",
              "                      fill=\"freeze\"\n",
              "                /><animateTransform attributeName=\"transform\"\n",
              "                    type=\"rotate\"\n",
              "                    from=\"0 0 0\" to =\"-60 0 0\"\n",
              "                    begin=\"one.end\" dur=\"0.003333333333333333s\"\n",
              "                    repeatCount=\"1\"\n",
              "                    additive=\"sum\"\n",
              "                    fill=\"freeze\"\n",
              "                /></g>\n",
              "      </svg>\n",
              "    "
            ]
          },
          "metadata": {}
        },
        {
          "name": "stdout",
          "output_type": "stream",
          "text": [
            "コッホ曲線\n",
            "字数を入力してください 3\n"
          ]
        }
      ]
    },
    {
      "cell_type": "code",
      "source": [
        "clearscreen()\n",
        "setup(500,500)\n",
        "turtle1=Turtle()\n",
        "turtle1.shape('turtle')\n",
        "turtle1.speed(10)\n",
        "turtle1.penup()\n",
        "turtle1.goto(-80,-60)\n",
        "turtle1.pendown()\n",
        "turtle1.left(110)\n",
        "turtle1.circle(-600,10)\n",
        "turtle1.right(20)\n",
        "turtle1.circle(-400,2)\n",
        "turtle1.right(20)\n",
        "turtle1.forward(60)\n",
        "turtle1.circle(-130,40)\n",
        "turtle1.left(50)\n",
        "turtle1.circle(-120,90)  #ここから耳\n",
        "turtle1.left(250)\n",
        "s.circle(-170,35)"
      ],
      "metadata": {
        "id": "7T_ikN4C7bx1",
        "outputId": "37bff143-9d13-4728-c8f7-f553c4e9eb6f",
        "colab": {
          "base_uri": "https://localhost:8080/",
          "height": 521
        }
      },
      "execution_count": null,
      "outputs": [
        {
          "output_type": "display_data",
          "data": {
            "text/plain": [
              "<IPython.core.display.HTML object>"
            ],
            "text/html": [
              "\n",
              "      <svg width=\"500\" height=\"500\">  \n",
              "        <rect width=\"100%\" height=\"100%\" style=\"fill:white;stroke:;stroke-width:1\"/>\n",
              "        \n",
              "        \n",
              "        <path d=\"M 170.0 310.0 A -600 -600 0 0 1 142.931 208.977\" stroke-linecap=\"round\" \n",
              "            fill=\"transparent\" fill-opacity=\"0\" style=\"stroke:black;stroke-width:1\"/><path d=\"M 142.931 208.977 A -400 -400 0 0 1 145.595 195.272\" stroke-linecap=\"round\" \n",
              "            fill=\"transparent\" fill-opacity=\"0\" style=\"stroke:black;stroke-width:1\"/><line x1=\"145.595\" y1=\"195.272\" x2=\"177.39\" y2=\"144.389\" stroke-linecap=\"round\" style=\"stroke:black;stroke-width:1\" /><path d=\"M 177.39 144.389 A -130 -130 0 0 1 247.464 89.641\" stroke-linecap=\"round\" \n",
              "            fill=\"transparent\" fill-opacity=\"0\" style=\"stroke:black;stroke-width:1\"/><path d=\"M 247.464 89.641 A -120 -120 0 0 1 403.679 23.332\" stroke-linecap=\"round\" \n",
              "            fill=\"transparent\" fill-opacity=\"0\" style=\"stroke:black;stroke-width:1\"/><path d=\"M 403.679 23.332 A -170 -170 0 0 1 369.933 52.154\" stroke-linecap=\"round\" \n",
              "            fill=\"transparent\" fill-opacity=\"0\" style=\"stroke:black;stroke-width:1\"/><path d=\"M 369.933 52.154 A -170 -170 0 0 1 329.877 71.26\" stroke-linecap=\"round\" \n",
              "            fill=\"transparent\" fill-opacity=\"0\" style=\"stroke:black;stroke-width:1\"/><path d=\"M 329.877 71.26 A -170 -170 0 0 1 315.586 75.223\" stroke-linecap=\"round\" \n",
              "            fill=\"transparent\" fill-opacity=\"0\" style=\"stroke:black;stroke-width:1\"/>\n",
              "        \n",
              "        \n",
              "        <g id=\"turtle\" visibility=\"visible\" transform=\"rotate(257.0,315.586,75.223) translate(315.586, 75.223)\">\n",
              "<path style=\"stroke:black;fill-rule:evenodd;fill:black;fill-opacity:1;\" transform=\"skewX(0) scale(1,1)\" d=\"m 1.1536693,-18.56101 c -2.105469,1.167969 -3.203125,3.441407 -3.140625,6.5 l 0.011719,0.519532 -0.300782,-0.15625 c -1.308594,-0.671875 -2.828125,-0.824219 -4.378906,-0.429688 -1.9375,0.484375 -3.8906253,2.089844 -6.0117193,4.9257825 -1.332031,1.785156 -1.714843,2.644531 -1.351562,3.035156 l 0.113281,0.125 h 0.363281 c 0.71875,0 1.308594,-0.265625 4.6679693,-2.113282 1.199219,-0.660156 2.183594,-1.199218 2.191406,-1.199218 0.00781,0 -0.023437,0.089844 -0.074218,0.195312 -0.472657,1.058594 -1.046876,2.785156 -1.335938,4.042969 -1.054688,4.574219 -0.351562,8.453125 2.101562,11.582031 0.28125,0.355469 0.292969,0.253906 -0.097656,0.722656 -2.046875,2.4609375 -3.027344,4.8984375 -2.734375,6.8046875 0.050781,0.339844 0.042969,0.335938 0.679688,0.335938 2.023437,0 4.15625,-1.316407 6.21875,-3.835938 0.222656,-0.269531 0.191406,-0.261719 0.425781,-0.113281 0.730469,0.46875 2.460938,1.390625 2.613281,1.390625 0.160157,0 1.765625,-0.753906 2.652344,-1.246094 0.167969,-0.09375 0.308594,-0.164062 0.308594,-0.160156 0.066406,0.105468 0.761719,0.855468 1.085937,1.171875 1.613282,1.570312 3.339844,2.402343 5.3593747,2.570312 0.324219,0.02734 0.355469,0.0078 0.425781,-0.316406 0.375,-1.742187 -0.382812,-4.058594 -2.1445307,-6.5585935 l -0.320312,-0.457031 0.15625,-0.183594 c 3.2460927,-3.824218 3.4335927,-9.08593704 0.558593,-15.816406 l -0.050781,-0.125 1.7382807,0.859375 c 3.585938,1.773437 4.371094,2.097656 5.085938,2.097656 0.945312,0 0.75,-0.863281 -0.558594,-2.507812 C 11.458356,-11.838353 8.3333563,-13.268041 4.8607003,-11.721166 l -0.363281,0.164063 0.019531,-0.09375 c 0.121094,-0.550781 0.183594,-1.800781 0.121094,-2.378907 -0.203125,-1.867187 -1.035157,-3.199218 -2.695313,-4.308593 -0.523437,-0.351563 -0.546875,-0.355469 -0.789062,-0.222657\" />\n",
              "</g>\n",
              "      </svg>\n",
              "    "
            ]
          },
          "metadata": {}
        }
      ]
    },
    {
      "cell_type": "code",
      "source": [
        "clearscreen()\n",
        "setup(1200,400)\n",
        "turtle1=Turtle()\n",
        "turtle1.shape('turtle')\n",
        "turtle1.speed(10)\n",
        "turtle1.penup()\n",
        "turtle1.goto(-500,-100)\n",
        "turtle1.pendown()\n"
      ],
      "metadata": {
        "id": "PEku8EyEpDXL",
        "outputId": "e8a008fe-0fac-44ee-e31a-34071291f157",
        "colab": {
          "base_uri": "https://localhost:8080/",
          "height": 421
        }
      },
      "execution_count": null,
      "outputs": [
        {
          "output_type": "display_data",
          "data": {
            "text/plain": [
              "<IPython.core.display.HTML object>"
            ],
            "text/html": [
              "\n",
              "      <svg width=\"1200\" height=\"400\">  \n",
              "        <rect width=\"100%\" height=\"100%\" style=\"fill:white;stroke:;stroke-width:1\"/>\n",
              "        \n",
              "        \n",
              "        \n",
              "        \n",
              "        \n",
              "        <g id=\"turtle\" visibility=\"visible\" transform=\"rotate(450.0,100.00000004463642,300.00000022685776) translate(100.00000004463642, 300.00000022685776)\">\n",
              "<path style=\"stroke:black;fill-rule:evenodd;fill:black;fill-opacity:1;\" transform=\"skewX(0) scale(1,1)\" d=\"m 1.1536693,-18.56101 c -2.105469,1.167969 -3.203125,3.441407 -3.140625,6.5 l 0.011719,0.519532 -0.300782,-0.15625 c -1.308594,-0.671875 -2.828125,-0.824219 -4.378906,-0.429688 -1.9375,0.484375 -3.8906253,2.089844 -6.0117193,4.9257825 -1.332031,1.785156 -1.714843,2.644531 -1.351562,3.035156 l 0.113281,0.125 h 0.363281 c 0.71875,0 1.308594,-0.265625 4.6679693,-2.113282 1.199219,-0.660156 2.183594,-1.199218 2.191406,-1.199218 0.00781,0 -0.023437,0.089844 -0.074218,0.195312 -0.472657,1.058594 -1.046876,2.785156 -1.335938,4.042969 -1.054688,4.574219 -0.351562,8.453125 2.101562,11.582031 0.28125,0.355469 0.292969,0.253906 -0.097656,0.722656 -2.046875,2.4609375 -3.027344,4.8984375 -2.734375,6.8046875 0.050781,0.339844 0.042969,0.335938 0.679688,0.335938 2.023437,0 4.15625,-1.316407 6.21875,-3.835938 0.222656,-0.269531 0.191406,-0.261719 0.425781,-0.113281 0.730469,0.46875 2.460938,1.390625 2.613281,1.390625 0.160157,0 1.765625,-0.753906 2.652344,-1.246094 0.167969,-0.09375 0.308594,-0.164062 0.308594,-0.160156 0.066406,0.105468 0.761719,0.855468 1.085937,1.171875 1.613282,1.570312 3.339844,2.402343 5.3593747,2.570312 0.324219,0.02734 0.355469,0.0078 0.425781,-0.316406 0.375,-1.742187 -0.382812,-4.058594 -2.1445307,-6.5585935 l -0.320312,-0.457031 0.15625,-0.183594 c 3.2460927,-3.824218 3.4335927,-9.08593704 0.558593,-15.816406 l -0.050781,-0.125 1.7382807,0.859375 c 3.585938,1.773437 4.371094,2.097656 5.085938,2.097656 0.945312,0 0.75,-0.863281 -0.558594,-2.507812 C 11.458356,-11.838353 8.3333563,-13.268041 4.8607003,-11.721166 l -0.363281,0.164063 0.019531,-0.09375 c 0.121094,-0.550781 0.183594,-1.800781 0.121094,-2.378907 -0.203125,-1.867187 -1.035157,-3.199218 -2.695313,-4.308593 -0.523437,-0.351563 -0.546875,-0.355469 -0.789062,-0.222657\" />\n",
              "</g>\n",
              "      </svg>\n",
              "    "
            ]
          },
          "metadata": {}
        }
      ]
    }
  ]
}