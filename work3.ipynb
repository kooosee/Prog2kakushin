{
  "nbformat": 4,
  "nbformat_minor": 0,
  "metadata": {
    "colab": {
      "provenance": [],
      "authorship_tag": "ABX9TyPzKbBpmTregnPN7FmWPSC3",
      "include_colab_link": true
    },
    "kernelspec": {
      "name": "python3",
      "display_name": "Python 3"
    },
    "language_info": {
      "name": "python"
    }
  },
  "cells": [
    {
      "cell_type": "markdown",
      "metadata": {
        "id": "view-in-github",
        "colab_type": "text"
      },
      "source": [
        "<a href=\"https://colab.research.google.com/github/kooosee/Prog2kakushin/blob/main/work3.ipynb\" target=\"_parent\"><img src=\"https://colab.research.google.com/assets/colab-badge.svg\" alt=\"Open In Colab\"/></a>"
      ]
    },
    {
      "cell_type": "markdown",
      "source": [
        "## turtleを使って陣地のゲームのようなものを作る予定\n",
        "\n"
      ],
      "metadata": {
        "id": "uZFU0g0i8wsr"
      }
    },
    {
      "cell_type": "code",
      "source": [],
      "metadata": {
        "id": "9CRPJh_1Rl55"
      },
      "execution_count": null,
      "outputs": []
    }
  ]
}