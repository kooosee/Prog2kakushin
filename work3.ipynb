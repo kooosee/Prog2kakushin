{
  "nbformat": 4,
  "nbformat_minor": 0,
  "metadata": {
    "colab": {
      "provenance": [],
      "authorship_tag": "ABX9TyOLoLp0z8Cufd833dYTq4Qo",
      "include_colab_link": true
    },
    "kernelspec": {
      "name": "python3",
      "display_name": "Python 3"
    },
    "language_info": {
      "name": "python"
    }
  },
  "cells": [
    {
      "cell_type": "markdown",
      "metadata": {
        "id": "view-in-github",
        "colab_type": "text"
      },
      "source": [
        "<a href=\"https://colab.research.google.com/github/kooosee/Prog2kakushin/blob/main/work3.ipynb\" target=\"_parent\"><img src=\"https://colab.research.google.com/assets/colab-badge.svg\" alt=\"Open In Colab\"/></a>"
      ]
    },
    {
      "cell_type": "markdown",
      "source": [
        "## openCVを使ってロールプレイのゲームを作る\n",
        "\n"
      ],
      "metadata": {
        "id": "uZFU0g0i8wsr"
      }
    },
    {
      "cell_type": "code",
      "source": [
        "import numpy as np\n",
        "import sys\n",
        "import cv2\n",
        "from google.colab.patches import cv2_imshow"
      ],
      "metadata": {
        "id": "9CRPJh_1Rl55"
      },
      "execution_count": 1,
      "outputs": []
    },
    {
      "cell_type": "code",
      "source": [
        "clearscreen()\n",
        "setup(2000,800)\n",
        "turtle1=Turtle()\n",
        "turtle1.shape('turtle')\n",
        "turtle1.speed(13)\n",
        "turtle1.penup()\n",
        "turtle1.goto(-900,-350)\n",
        "turtle1.pendown()\n",
        "def koh(n,length):\n",
        "  if n==0:\n",
        "    turtle1.forward(length)\n",
        "    return\n",
        "  length2=length/3\n",
        "  koh(n-1,length2)\n",
        "  turtle1.left(60)\n",
        "  koh(n-1,length2)\n",
        "  turtle1.right(120)\n",
        "  koh(n-1,length2)\n",
        "  turtle1.left(60)\n",
        "  koh(n-1,length2)\n",
        "print('コッホ曲線')\n",
        "while True:\n",
        "  n=int(input('5字以下の数字を入力してください '))\n",
        "  if n>5:\n",
        "    print('error 数が大きすぎます')\n",
        "    continue\n",
        "  else:\n",
        "    break\n",
        "length=1000\n",
        "koh(n,length"
      ],
      "metadata": {
        "id": "zpgy8VZtvYlL",
        "outputId": "1bf829c4-b854-43a9-c559-6e14a2d59c32",
        "colab": {
          "base_uri": "https://localhost:8080/",
          "height": 875
        }
      },
      "execution_count": null,
      "outputs": [
        {
          "output_type": "display_data",
          "data": {
            "text/plain": [
              "<IPython.core.display.HTML object>"
            ],
            "text/html": [
              "\n",
              "      <svg width=\"2000\" height=\"800\">  \n",
              "        <rect width=\"100%\" height=\"100%\" style=\"fill:white;stroke:;stroke-width:1\"/>\n",
              "        \n",
              "        \n",
              "        <line x1=\"100.0\" y1=\"750.0\" x2=\"112.346\" y2=\"750.0\" stroke-linecap=\"round\" style=\"stroke:black;stroke-width:1\" /><line x1=\"112.346\" y1=\"750.0\" x2=\"118.519\" y2=\"739.308\" stroke-linecap=\"round\" style=\"stroke:black;stroke-width:1\" /><line x1=\"118.519\" y1=\"739.308\" x2=\"124.692\" y2=\"750.0\" stroke-linecap=\"round\" style=\"stroke:black;stroke-width:1\" /><line x1=\"124.692\" y1=\"750.0\" x2=\"137.038\" y2=\"750.0\" stroke-linecap=\"round\" style=\"stroke:black;stroke-width:1\" /><line x1=\"137.038\" y1=\"750.0\" x2=\"143.211\" y2=\"739.308\" stroke-linecap=\"round\" style=\"stroke:black;stroke-width:1\" /><line x1=\"143.211\" y1=\"739.308\" x2=\"137.038\" y2=\"728.616\" stroke-linecap=\"round\" style=\"stroke:black;stroke-width:1\" /><line x1=\"137.038\" y1=\"728.616\" x2=\"149.384\" y2=\"728.616\" stroke-linecap=\"round\" style=\"stroke:black;stroke-width:1\" /><line x1=\"149.384\" y1=\"728.616\" x2=\"155.557\" y2=\"717.924\" stroke-linecap=\"round\" style=\"stroke:black;stroke-width:1\" /><line x1=\"155.557\" y1=\"717.924\" x2=\"161.73\" y2=\"728.616\" stroke-linecap=\"round\" style=\"stroke:black;stroke-width:1\" /><line x1=\"161.73\" y1=\"728.616\" x2=\"174.076\" y2=\"728.616\" stroke-linecap=\"round\" style=\"stroke:black;stroke-width:1\" /><line x1=\"174.076\" y1=\"728.616\" x2=\"167.903\" y2=\"739.308\" stroke-linecap=\"round\" style=\"stroke:black;stroke-width:1\" /><line x1=\"167.903\" y1=\"739.308\" x2=\"174.076\" y2=\"750.0\" stroke-linecap=\"round\" style=\"stroke:black;stroke-width:1\" /><line x1=\"174.076\" y1=\"750.0\" x2=\"186.422\" y2=\"750.0\" stroke-linecap=\"round\" style=\"stroke:black;stroke-width:1\" /><line x1=\"186.422\" y1=\"750.0\" x2=\"192.595\" y2=\"739.308\" stroke-linecap=\"round\" style=\"stroke:black;stroke-width:1\" /><line x1=\"192.595\" y1=\"739.308\" x2=\"198.768\" y2=\"750.0\" stroke-linecap=\"round\" style=\"stroke:black;stroke-width:1\" /><line x1=\"198.768\" y1=\"750.0\" x2=\"211.114\" y2=\"750.0\" stroke-linecap=\"round\" style=\"stroke:black;stroke-width:1\" /><line x1=\"211.114\" y1=\"750.0\" x2=\"217.287\" y2=\"739.308\" stroke-linecap=\"round\" style=\"stroke:black;stroke-width:1\" /><line x1=\"217.287\" y1=\"739.308\" x2=\"211.114\" y2=\"728.616\" stroke-linecap=\"round\" style=\"stroke:black;stroke-width:1\" /><line x1=\"211.114\" y1=\"728.616\" x2=\"223.46\" y2=\"728.616\" stroke-linecap=\"round\" style=\"stroke:black;stroke-width:1\" /><line x1=\"223.46\" y1=\"728.616\" x2=\"229.633\" y2=\"717.924\" stroke-linecap=\"round\" style=\"stroke:black;stroke-width:1\" /><line x1=\"229.633\" y1=\"717.924\" x2=\"223.46\" y2=\"707.232\" stroke-linecap=\"round\" style=\"stroke:black;stroke-width:1\" /><line x1=\"223.46\" y1=\"707.232\" x2=\"211.114\" y2=\"707.232\" stroke-linecap=\"round\" style=\"stroke:black;stroke-width:1\" /><line x1=\"211.114\" y1=\"707.232\" x2=\"217.287\" y2=\"696.54\" stroke-linecap=\"round\" style=\"stroke:black;stroke-width:1\" /><line x1=\"217.287\" y1=\"696.54\" x2=\"211.114\" y2=\"685.848\" stroke-linecap=\"round\" style=\"stroke:black;stroke-width:1\" /><line x1=\"211.114\" y1=\"685.848\" x2=\"223.46\" y2=\"685.848\" stroke-linecap=\"round\" style=\"stroke:black;stroke-width:1\" /><line x1=\"223.46\" y1=\"685.848\" x2=\"229.633\" y2=\"675.156\" stroke-linecap=\"round\" style=\"stroke:black;stroke-width:1\" /><line x1=\"229.633\" y1=\"675.156\" x2=\"235.806\" y2=\"685.848\" stroke-linecap=\"round\" style=\"stroke:black;stroke-width:1\" /><line x1=\"235.806\" y1=\"685.848\" x2=\"248.152\" y2=\"685.848\" stroke-linecap=\"round\" style=\"stroke:black;stroke-width:1\" /><line x1=\"248.152\" y1=\"685.848\" x2=\"254.325\" y2=\"675.156\" stroke-linecap=\"round\" style=\"stroke:black;stroke-width:1\" /><line x1=\"254.325\" y1=\"675.156\" x2=\"248.152\" y2=\"664.464\" stroke-linecap=\"round\" style=\"stroke:black;stroke-width:1\" /><line x1=\"248.152\" y1=\"664.464\" x2=\"260.498\" y2=\"664.464\" stroke-linecap=\"round\" style=\"stroke:black;stroke-width:1\" /><line x1=\"260.498\" y1=\"664.464\" x2=\"266.671\" y2=\"653.772\" stroke-linecap=\"round\" style=\"stroke:black;stroke-width:1\" /><line x1=\"266.671\" y1=\"653.772\" x2=\"272.844\" y2=\"664.464\" stroke-linecap=\"round\" style=\"stroke:black;stroke-width:1\" /><line x1=\"272.844\" y1=\"664.464\" x2=\"285.19\" y2=\"664.464\" stroke-linecap=\"round\" style=\"stroke:black;stroke-width:1\" /><line x1=\"285.19\" y1=\"664.464\" x2=\"279.017\" y2=\"675.156\" stroke-linecap=\"round\" style=\"stroke:black;stroke-width:1\" /><line x1=\"279.017\" y1=\"675.156\" x2=\"285.19\" y2=\"685.848\" stroke-linecap=\"round\" style=\"stroke:black;stroke-width:1\" /><line x1=\"285.19\" y1=\"685.848\" x2=\"297.536\" y2=\"685.848\" stroke-linecap=\"round\" style=\"stroke:black;stroke-width:1\" /><line x1=\"297.536\" y1=\"685.848\" x2=\"303.709\" y2=\"675.156\" stroke-linecap=\"round\" style=\"stroke:black;stroke-width:1\" /><line x1=\"303.709\" y1=\"675.156\" x2=\"309.882\" y2=\"685.848\" stroke-linecap=\"round\" style=\"stroke:black;stroke-width:1\" /><line x1=\"309.882\" y1=\"685.848\" x2=\"322.228\" y2=\"685.848\" stroke-linecap=\"round\" style=\"stroke:black;stroke-width:1\" /><line x1=\"322.228\" y1=\"685.848\" x2=\"316.055\" y2=\"696.54\" stroke-linecap=\"round\" style=\"stroke:black;stroke-width:1\" /><line x1=\"316.055\" y1=\"696.54\" x2=\"322.228\" y2=\"707.232\" stroke-linecap=\"round\" style=\"stroke:black;stroke-width:1\" /><line x1=\"322.228\" y1=\"707.232\" x2=\"309.882\" y2=\"707.232\" stroke-linecap=\"round\" style=\"stroke:black;stroke-width:1\" /><line x1=\"309.882\" y1=\"707.232\" x2=\"303.709\" y2=\"717.924\" stroke-linecap=\"round\" style=\"stroke:black;stroke-width:1\" /><line x1=\"303.709\" y1=\"717.924\" x2=\"309.882\" y2=\"728.616\" stroke-linecap=\"round\" style=\"stroke:black;stroke-width:1\" /><line x1=\"309.882\" y1=\"728.616\" x2=\"322.228\" y2=\"728.616\" stroke-linecap=\"round\" style=\"stroke:black;stroke-width:1\" /><line x1=\"322.228\" y1=\"728.616\" x2=\"316.055\" y2=\"739.308\" stroke-linecap=\"round\" style=\"stroke:black;stroke-width:1\" /><line x1=\"316.055\" y1=\"739.308\" x2=\"322.228\" y2=\"750.0\" stroke-linecap=\"round\" style=\"stroke:black;stroke-width:1\" /><line x1=\"322.228\" y1=\"750.0\" x2=\"334.574\" y2=\"750.0\" stroke-linecap=\"round\" style=\"stroke:black;stroke-width:1\" /><line x1=\"334.574\" y1=\"750.0\" x2=\"340.747\" y2=\"739.308\" stroke-linecap=\"round\" style=\"stroke:black;stroke-width:1\" /><line x1=\"340.747\" y1=\"739.308\" x2=\"346.92\" y2=\"750.0\" stroke-linecap=\"round\" style=\"stroke:black;stroke-width:1\" /><line x1=\"346.92\" y1=\"750.0\" x2=\"359.266\" y2=\"750.0\" stroke-linecap=\"round\" style=\"stroke:black;stroke-width:1\" /><line x1=\"359.266\" y1=\"750.0\" x2=\"365.439\" y2=\"739.308\" stroke-linecap=\"round\" style=\"stroke:black;stroke-width:1\" /><line x1=\"365.439\" y1=\"739.308\" x2=\"359.266\" y2=\"728.616\" stroke-linecap=\"round\" style=\"stroke:black;stroke-width:1\" /><line x1=\"359.266\" y1=\"728.616\" x2=\"371.612\" y2=\"728.616\" stroke-linecap=\"round\" style=\"stroke:black;stroke-width:1\" /><line x1=\"371.612\" y1=\"728.616\" x2=\"377.785\" y2=\"717.924\" stroke-linecap=\"round\" style=\"stroke:black;stroke-width:1\" /><line x1=\"377.785\" y1=\"717.924\" x2=\"383.958\" y2=\"728.616\" stroke-linecap=\"round\" style=\"stroke:black;stroke-width:1\" /><line x1=\"383.958\" y1=\"728.616\" x2=\"396.304\" y2=\"728.616\" stroke-linecap=\"round\" style=\"stroke:black;stroke-width:1\" /><line x1=\"396.304\" y1=\"728.616\" x2=\"390.131\" y2=\"739.308\" stroke-linecap=\"round\" style=\"stroke:black;stroke-width:1\" /><line x1=\"390.131\" y1=\"739.308\" x2=\"396.304\" y2=\"750.0\" stroke-linecap=\"round\" style=\"stroke:black;stroke-width:1\" /><line x1=\"396.304\" y1=\"750.0\" x2=\"408.65\" y2=\"750.0\" stroke-linecap=\"round\" style=\"stroke:black;stroke-width:1\" /><line x1=\"408.65\" y1=\"750.0\" x2=\"414.823\" y2=\"739.308\" stroke-linecap=\"round\" style=\"stroke:black;stroke-width:1\" /><line x1=\"414.823\" y1=\"739.308\" x2=\"420.996\" y2=\"750.0\" stroke-linecap=\"round\" style=\"stroke:black;stroke-width:1\" /><line x1=\"420.996\" y1=\"750.0\" x2=\"433.342\" y2=\"750.0\" stroke-linecap=\"round\" style=\"stroke:black;stroke-width:1\" /><line x1=\"433.342\" y1=\"750.0\" x2=\"439.515\" y2=\"739.308\" stroke-linecap=\"round\" style=\"stroke:black;stroke-width:1\" /><line x1=\"439.515\" y1=\"739.308\" x2=\"433.342\" y2=\"728.616\" stroke-linecap=\"round\" style=\"stroke:black;stroke-width:1\" /><line x1=\"433.342\" y1=\"728.616\" x2=\"445.688\" y2=\"728.616\" stroke-linecap=\"round\" style=\"stroke:black;stroke-width:1\" /><line x1=\"445.688\" y1=\"728.616\" x2=\"451.861\" y2=\"717.924\" stroke-linecap=\"round\" style=\"stroke:black;stroke-width:1\" /><line x1=\"451.861\" y1=\"717.924\" x2=\"445.688\" y2=\"707.232\" stroke-linecap=\"round\" style=\"stroke:black;stroke-width:1\" /><line x1=\"445.688\" y1=\"707.232\" x2=\"433.342\" y2=\"707.232\" stroke-linecap=\"round\" style=\"stroke:black;stroke-width:1\" /><line x1=\"433.342\" y1=\"707.232\" x2=\"439.515\" y2=\"696.54\" stroke-linecap=\"round\" style=\"stroke:black;stroke-width:1\" /><line x1=\"439.515\" y1=\"696.54\" x2=\"433.342\" y2=\"685.848\" stroke-linecap=\"round\" style=\"stroke:black;stroke-width:1\" /><line x1=\"433.342\" y1=\"685.848\" x2=\"445.688\" y2=\"685.848\" stroke-linecap=\"round\" style=\"stroke:black;stroke-width:1\" /><line x1=\"445.688\" y1=\"685.848\" x2=\"451.861\" y2=\"675.156\" stroke-linecap=\"round\" style=\"stroke:black;stroke-width:1\" /><line x1=\"451.861\" y1=\"675.156\" x2=\"458.034\" y2=\"685.848\" stroke-linecap=\"round\" style=\"stroke:black;stroke-width:1\" /><line x1=\"458.034\" y1=\"685.848\" x2=\"470.38\" y2=\"685.848\" stroke-linecap=\"round\" style=\"stroke:black;stroke-width:1\" /><line x1=\"470.38\" y1=\"685.848\" x2=\"476.553\" y2=\"675.156\" stroke-linecap=\"round\" style=\"stroke:black;stroke-width:1\" /><line x1=\"476.553\" y1=\"675.156\" x2=\"470.38\" y2=\"664.464\" stroke-linecap=\"round\" style=\"stroke:black;stroke-width:1\" /><line x1=\"470.38\" y1=\"664.464\" x2=\"482.726\" y2=\"664.464\" stroke-linecap=\"round\" style=\"stroke:black;stroke-width:1\" /><line x1=\"482.726\" y1=\"664.464\" x2=\"488.899\" y2=\"653.772\" stroke-linecap=\"round\" style=\"stroke:black;stroke-width:1\" /><line x1=\"488.899\" y1=\"653.772\" x2=\"482.726\" y2=\"643.08\" stroke-linecap=\"round\" style=\"stroke:black;stroke-width:1\" /><line x1=\"482.726\" y1=\"643.08\" x2=\"470.38\" y2=\"643.08\" stroke-linecap=\"round\" style=\"stroke:black;stroke-width:1\" /><line x1=\"470.38\" y1=\"643.08\" x2=\"476.553\" y2=\"632.388\" stroke-linecap=\"round\" style=\"stroke:black;stroke-width:1\" /><line x1=\"476.553\" y1=\"632.388\" x2=\"470.38\" y2=\"621.696\" stroke-linecap=\"round\" style=\"stroke:black;stroke-width:1\" /><line x1=\"470.38\" y1=\"621.696\" x2=\"458.034\" y2=\"621.696\" stroke-linecap=\"round\" style=\"stroke:black;stroke-width:1\" /><line x1=\"458.034\" y1=\"621.696\" x2=\"451.861\" y2=\"632.388\" stroke-linecap=\"round\" style=\"stroke:black;stroke-width:1\" /><line x1=\"451.861\" y1=\"632.388\" x2=\"445.688\" y2=\"621.696\" stroke-linecap=\"round\" style=\"stroke:black;stroke-width:1\" /><line x1=\"445.688\" y1=\"621.696\" x2=\"433.342\" y2=\"621.696\" stroke-linecap=\"round\" style=\"stroke:black;stroke-width:1\" /><line x1=\"433.342\" y1=\"621.696\" x2=\"439.515\" y2=\"611.004\" stroke-linecap=\"round\" style=\"stroke:black;stroke-width:1\" /><line x1=\"439.515\" y1=\"611.004\" x2=\"433.342\" y2=\"600.312\" stroke-linecap=\"round\" style=\"stroke:black;stroke-width:1\" /><line x1=\"433.342\" y1=\"600.312\" x2=\"445.688\" y2=\"600.312\" stroke-linecap=\"round\" style=\"stroke:black;stroke-width:1\" /><line x1=\"445.688\" y1=\"600.312\" x2=\"451.861\" y2=\"589.62\" stroke-linecap=\"round\" style=\"stroke:black;stroke-width:1\" /><line x1=\"451.861\" y1=\"589.62\" x2=\"445.688\" y2=\"578.928\" stroke-linecap=\"round\" style=\"stroke:black;stroke-width:1\" /><line x1=\"445.688\" y1=\"578.928\" x2=\"433.342\" y2=\"578.928\" stroke-linecap=\"round\" style=\"stroke:black;stroke-width:1\" /><line x1=\"433.342\" y1=\"578.928\" x2=\"439.515\" y2=\"568.236\" stroke-linecap=\"round\" style=\"stroke:black;stroke-width:1\" /><line x1=\"439.515\" y1=\"568.236\" x2=\"433.342\" y2=\"557.544\" stroke-linecap=\"round\" style=\"stroke:black;stroke-width:1\" /><line x1=\"433.342\" y1=\"557.544\" x2=\"445.688\" y2=\"557.544\" stroke-linecap=\"round\" style=\"stroke:black;stroke-width:1\" /><line x1=\"445.688\" y1=\"557.544\" x2=\"451.861\" y2=\"546.852\" stroke-linecap=\"round\" style=\"stroke:black;stroke-width:1\" /><line x1=\"451.861\" y1=\"546.852\" x2=\"458.034\" y2=\"557.544\" stroke-linecap=\"round\" style=\"stroke:black;stroke-width:1\" /><line x1=\"458.034\" y1=\"557.544\" x2=\"470.38\" y2=\"557.544\" stroke-linecap=\"round\" style=\"stroke:black;stroke-width:1\" /><line x1=\"470.38\" y1=\"557.544\" x2=\"476.553\" y2=\"546.852\" stroke-linecap=\"round\" style=\"stroke:black;stroke-width:1\" /><line x1=\"476.553\" y1=\"546.852\" x2=\"470.38\" y2=\"536.16\" stroke-linecap=\"round\" style=\"stroke:black;stroke-width:1\" /><line x1=\"470.38\" y1=\"536.16\" x2=\"482.726\" y2=\"536.16\" stroke-linecap=\"round\" style=\"stroke:black;stroke-width:1\" /><line x1=\"482.726\" y1=\"536.16\" x2=\"488.899\" y2=\"525.468\" stroke-linecap=\"round\" style=\"stroke:black;stroke-width:1\" /><line x1=\"488.899\" y1=\"525.468\" x2=\"495.072\" y2=\"536.16\" stroke-linecap=\"round\" style=\"stroke:black;stroke-width:1\" /><line x1=\"495.072\" y1=\"536.16\" x2=\"507.418\" y2=\"536.16\" stroke-linecap=\"round\" style=\"stroke:black;stroke-width:1\" /><line x1=\"507.418\" y1=\"536.16\" x2=\"501.245\" y2=\"546.852\" stroke-linecap=\"round\" style=\"stroke:black;stroke-width:1\" /><line x1=\"501.245\" y1=\"546.852\" x2=\"507.418\" y2=\"557.544\" stroke-linecap=\"round\" style=\"stroke:black;stroke-width:1\" /><line x1=\"507.418\" y1=\"557.544\" x2=\"519.764\" y2=\"557.544\" stroke-linecap=\"round\" style=\"stroke:black;stroke-width:1\" /><line x1=\"519.764\" y1=\"557.544\" x2=\"525.937\" y2=\"546.852\" stroke-linecap=\"round\" style=\"stroke:black;stroke-width:1\" /><line x1=\"525.937\" y1=\"546.852\" x2=\"532.11\" y2=\"557.544\" stroke-linecap=\"round\" style=\"stroke:black;stroke-width:1\" /><line x1=\"532.11\" y1=\"557.544\" x2=\"544.456\" y2=\"557.544\" stroke-linecap=\"round\" style=\"stroke:black;stroke-width:1\" /><line x1=\"544.456\" y1=\"557.544\" x2=\"550.629\" y2=\"546.852\" stroke-linecap=\"round\" style=\"stroke:black;stroke-width:1\" /><line x1=\"550.629\" y1=\"546.852\" x2=\"544.456\" y2=\"536.16\" stroke-linecap=\"round\" style=\"stroke:black;stroke-width:1\" /><line x1=\"544.456\" y1=\"536.16\" x2=\"556.802\" y2=\"536.16\" stroke-linecap=\"round\" style=\"stroke:black;stroke-width:1\" /><line x1=\"556.802\" y1=\"536.16\" x2=\"562.975\" y2=\"525.468\" stroke-linecap=\"round\" style=\"stroke:black;stroke-width:1\" /><line x1=\"562.975\" y1=\"525.468\" x2=\"556.802\" y2=\"514.776\" stroke-linecap=\"round\" style=\"stroke:black;stroke-width:1\" /><line x1=\"556.802\" y1=\"514.776\" x2=\"544.456\" y2=\"514.776\" stroke-linecap=\"round\" style=\"stroke:black;stroke-width:1\" /><line x1=\"544.456\" y1=\"514.776\" x2=\"550.629\" y2=\"504.084\" stroke-linecap=\"round\" style=\"stroke:black;stroke-width:1\" /><line x1=\"550.629\" y1=\"504.084\" x2=\"544.456\" y2=\"493.392\" stroke-linecap=\"round\" style=\"stroke:black;stroke-width:1\" /><line x1=\"544.456\" y1=\"493.392\" x2=\"556.802\" y2=\"493.392\" stroke-linecap=\"round\" style=\"stroke:black;stroke-width:1\" /><line x1=\"556.802\" y1=\"493.392\" x2=\"562.975\" y2=\"482.7\" stroke-linecap=\"round\" style=\"stroke:black;stroke-width:1\" /><line x1=\"562.975\" y1=\"482.7\" x2=\"569.148\" y2=\"493.392\" stroke-linecap=\"round\" style=\"stroke:black;stroke-width:1\" /><line x1=\"569.148\" y1=\"493.392\" x2=\"581.494\" y2=\"493.392\" stroke-linecap=\"round\" style=\"stroke:black;stroke-width:1\" /><line x1=\"581.494\" y1=\"493.392\" x2=\"587.667\" y2=\"482.7\" stroke-linecap=\"round\" style=\"stroke:black;stroke-width:1\" /><line x1=\"587.667\" y1=\"482.7\" x2=\"581.494\" y2=\"472.008\" stroke-linecap=\"round\" style=\"stroke:black;stroke-width:1\" /><line x1=\"581.494\" y1=\"472.008\" x2=\"593.84\" y2=\"472.008\" stroke-linecap=\"round\" style=\"stroke:black;stroke-width:1\" /><line x1=\"593.84\" y1=\"472.008\" x2=\"600.013\" y2=\"461.316\" stroke-linecap=\"round\" style=\"stroke:black;stroke-width:1\" /><line x1=\"600.013\" y1=\"461.316\" x2=\"606.186\" y2=\"472.008\" stroke-linecap=\"round\" style=\"stroke:black;stroke-width:1\" /><line x1=\"606.186\" y1=\"472.008\" x2=\"618.532\" y2=\"472.008\" stroke-linecap=\"round\" style=\"stroke:black;stroke-width:1\" /><line x1=\"618.532\" y1=\"472.008\" x2=\"612.359\" y2=\"482.7\" stroke-linecap=\"round\" style=\"stroke:black;stroke-width:1\" /><line x1=\"612.359\" y1=\"482.7\" x2=\"618.532\" y2=\"493.392\" stroke-linecap=\"round\" style=\"stroke:black;stroke-width:1\" /><line x1=\"618.532\" y1=\"493.392\" x2=\"630.878\" y2=\"493.392\" stroke-linecap=\"round\" style=\"stroke:black;stroke-width:1\" /><line x1=\"630.878\" y1=\"493.392\" x2=\"637.051\" y2=\"482.7\" stroke-linecap=\"round\" style=\"stroke:black;stroke-width:1\" /><line x1=\"637.051\" y1=\"482.7\" x2=\"643.224\" y2=\"493.392\" stroke-linecap=\"round\" style=\"stroke:black;stroke-width:1\" /><line x1=\"643.224\" y1=\"493.392\" x2=\"655.57\" y2=\"493.392\" stroke-linecap=\"round\" style=\"stroke:black;stroke-width:1\" /><line x1=\"655.57\" y1=\"493.392\" x2=\"649.397\" y2=\"504.084\" stroke-linecap=\"round\" style=\"stroke:black;stroke-width:1\" /><line x1=\"649.397\" y1=\"504.084\" x2=\"655.57\" y2=\"514.776\" stroke-linecap=\"round\" style=\"stroke:black;stroke-width:1\" /><line x1=\"655.57\" y1=\"514.776\" x2=\"643.224\" y2=\"514.776\" stroke-linecap=\"round\" style=\"stroke:black;stroke-width:1\" /><line x1=\"643.224\" y1=\"514.776\" x2=\"637.051\" y2=\"525.468\" stroke-linecap=\"round\" style=\"stroke:black;stroke-width:1\" /><line x1=\"637.051\" y1=\"525.468\" x2=\"643.224\" y2=\"536.16\" stroke-linecap=\"round\" style=\"stroke:black;stroke-width:1\" /><line x1=\"643.224\" y1=\"536.16\" x2=\"655.57\" y2=\"536.16\" stroke-linecap=\"round\" style=\"stroke:black;stroke-width:1\" /><line x1=\"655.57\" y1=\"536.16\" x2=\"649.397\" y2=\"546.852\" stroke-linecap=\"round\" style=\"stroke:black;stroke-width:1\" /><line x1=\"649.397\" y1=\"546.852\" x2=\"655.57\" y2=\"557.544\" stroke-linecap=\"round\" style=\"stroke:black;stroke-width:1\" /><line x1=\"655.57\" y1=\"557.544\" x2=\"667.916\" y2=\"557.544\" stroke-linecap=\"round\" style=\"stroke:black;stroke-width:1\" /><line x1=\"667.916\" y1=\"557.544\" x2=\"674.089\" y2=\"546.852\" stroke-linecap=\"round\" style=\"stroke:black;stroke-width:1\" /><line x1=\"674.089\" y1=\"546.852\" x2=\"680.262\" y2=\"557.544\" stroke-linecap=\"round\" style=\"stroke:black;stroke-width:1\" /><line x1=\"680.262\" y1=\"557.544\" x2=\"692.608\" y2=\"557.544\" stroke-linecap=\"round\" style=\"stroke:black;stroke-width:1\" /><line x1=\"692.608\" y1=\"557.544\" x2=\"698.781\" y2=\"546.852\" stroke-linecap=\"round\" style=\"stroke:black;stroke-width:1\" /><line x1=\"698.781\" y1=\"546.852\" x2=\"692.608\" y2=\"536.16\" stroke-linecap=\"round\" style=\"stroke:black;stroke-width:1\" /><line x1=\"692.608\" y1=\"536.16\" x2=\"704.954\" y2=\"536.16\" stroke-linecap=\"round\" style=\"stroke:black;stroke-width:1\" /><line x1=\"704.954\" y1=\"536.16\" x2=\"711.127\" y2=\"525.468\" stroke-linecap=\"round\" style=\"stroke:black;stroke-width:1\" /><line x1=\"711.127\" y1=\"525.468\" x2=\"717.3\" y2=\"536.16\" stroke-linecap=\"round\" style=\"stroke:black;stroke-width:1\" /><line x1=\"717.3\" y1=\"536.16\" x2=\"729.646\" y2=\"536.16\" stroke-linecap=\"round\" style=\"stroke:black;stroke-width:1\" /><line x1=\"729.646\" y1=\"536.16\" x2=\"723.473\" y2=\"546.852\" stroke-linecap=\"round\" style=\"stroke:black;stroke-width:1\" /><line x1=\"723.473\" y1=\"546.852\" x2=\"729.646\" y2=\"557.544\" stroke-linecap=\"round\" style=\"stroke:black;stroke-width:1\" /><line x1=\"729.646\" y1=\"557.544\" x2=\"741.992\" y2=\"557.544\" stroke-linecap=\"round\" style=\"stroke:black;stroke-width:1\" /><line x1=\"741.992\" y1=\"557.544\" x2=\"748.165\" y2=\"546.852\" stroke-linecap=\"round\" style=\"stroke:black;stroke-width:1\" /><line x1=\"748.165\" y1=\"546.852\" x2=\"754.338\" y2=\"557.544\" stroke-linecap=\"round\" style=\"stroke:black;stroke-width:1\" /><line x1=\"754.338\" y1=\"557.544\" x2=\"766.684\" y2=\"557.544\" stroke-linecap=\"round\" style=\"stroke:black;stroke-width:1\" /><line x1=\"766.684\" y1=\"557.544\" x2=\"760.511\" y2=\"568.236\" stroke-linecap=\"round\" style=\"stroke:black;stroke-width:1\" /><line x1=\"760.511\" y1=\"568.236\" x2=\"766.684\" y2=\"578.928\" stroke-linecap=\"round\" style=\"stroke:black;stroke-width:1\" /><line x1=\"766.684\" y1=\"578.928\" x2=\"754.338\" y2=\"578.928\" stroke-linecap=\"round\" style=\"stroke:black;stroke-width:1\" /><line x1=\"754.338\" y1=\"578.928\" x2=\"748.165\" y2=\"589.62\" stroke-linecap=\"round\" style=\"stroke:black;stroke-width:1\" /><line x1=\"748.165\" y1=\"589.62\" x2=\"754.338\" y2=\"600.312\" stroke-linecap=\"round\" style=\"stroke:black;stroke-width:1\" /><line x1=\"754.338\" y1=\"600.312\" x2=\"766.684\" y2=\"600.312\" stroke-linecap=\"round\" style=\"stroke:black;stroke-width:1\" /><line x1=\"766.684\" y1=\"600.312\" x2=\"760.511\" y2=\"611.004\" stroke-linecap=\"round\" style=\"stroke:black;stroke-width:1\" /><line x1=\"760.511\" y1=\"611.004\" x2=\"766.684\" y2=\"621.696\" stroke-linecap=\"round\" style=\"stroke:black;stroke-width:1\" /><line x1=\"766.684\" y1=\"621.696\" x2=\"754.338\" y2=\"621.696\" stroke-linecap=\"round\" style=\"stroke:black;stroke-width:1\" /><line x1=\"754.338\" y1=\"621.696\" x2=\"748.165\" y2=\"632.388\" stroke-linecap=\"round\" style=\"stroke:black;stroke-width:1\" /><line x1=\"748.165\" y1=\"632.388\" x2=\"741.992\" y2=\"621.696\" stroke-linecap=\"round\" style=\"stroke:black;stroke-width:1\" /><line x1=\"741.992\" y1=\"621.696\" x2=\"729.646\" y2=\"621.696\" stroke-linecap=\"round\" style=\"stroke:black;stroke-width:1\" /><line x1=\"729.646\" y1=\"621.696\" x2=\"723.473\" y2=\"632.388\" stroke-linecap=\"round\" style=\"stroke:black;stroke-width:1\" /><line x1=\"723.473\" y1=\"632.388\" x2=\"729.646\" y2=\"643.08\" stroke-linecap=\"round\" style=\"stroke:black;stroke-width:1\" /><line x1=\"729.646\" y1=\"643.08\" x2=\"717.3\" y2=\"643.08\" stroke-linecap=\"round\" style=\"stroke:black;stroke-width:1\" /><line x1=\"717.3\" y1=\"643.08\" x2=\"711.127\" y2=\"653.772\" stroke-linecap=\"round\" style=\"stroke:black;stroke-width:1\" /><line x1=\"711.127\" y1=\"653.772\" x2=\"717.3\" y2=\"664.464\" stroke-linecap=\"round\" style=\"stroke:black;stroke-width:1\" /><line x1=\"717.3\" y1=\"664.464\" x2=\"729.646\" y2=\"664.464\" stroke-linecap=\"round\" style=\"stroke:black;stroke-width:1\" /><line x1=\"729.646\" y1=\"664.464\" x2=\"723.473\" y2=\"675.156\" stroke-linecap=\"round\" style=\"stroke:black;stroke-width:1\" /><line x1=\"723.473\" y1=\"675.156\" x2=\"729.646\" y2=\"685.848\" stroke-linecap=\"round\" style=\"stroke:black;stroke-width:1\" /><line x1=\"729.646\" y1=\"685.848\" x2=\"741.992\" y2=\"685.848\" stroke-linecap=\"round\" style=\"stroke:black;stroke-width:1\" /><line x1=\"741.992\" y1=\"685.848\" x2=\"748.165\" y2=\"675.156\" stroke-linecap=\"round\" style=\"stroke:black;stroke-width:1\" /><line x1=\"748.165\" y1=\"675.156\" x2=\"754.338\" y2=\"685.848\" stroke-linecap=\"round\" style=\"stroke:black;stroke-width:1\" /><line x1=\"754.338\" y1=\"685.848\" x2=\"766.684\" y2=\"685.848\" stroke-linecap=\"round\" style=\"stroke:black;stroke-width:1\" /><line x1=\"766.684\" y1=\"685.848\" x2=\"760.511\" y2=\"696.54\" stroke-linecap=\"round\" style=\"stroke:black;stroke-width:1\" /><line x1=\"760.511\" y1=\"696.54\" x2=\"766.684\" y2=\"707.232\" stroke-linecap=\"round\" style=\"stroke:black;stroke-width:1\" /><line x1=\"766.684\" y1=\"707.232\" x2=\"754.338\" y2=\"707.232\" stroke-linecap=\"round\" style=\"stroke:black;stroke-width:1\" /><line x1=\"754.338\" y1=\"707.232\" x2=\"748.165\" y2=\"717.924\" stroke-linecap=\"round\" style=\"stroke:black;stroke-width:1\" /><line x1=\"748.165\" y1=\"717.924\" x2=\"754.338\" y2=\"728.616\" stroke-linecap=\"round\" style=\"stroke:black;stroke-width:1\" /><line x1=\"754.338\" y1=\"728.616\" x2=\"766.684\" y2=\"728.616\" stroke-linecap=\"round\" style=\"stroke:black;stroke-width:1\" /><line x1=\"766.684\" y1=\"728.616\" x2=\"760.511\" y2=\"739.308\" stroke-linecap=\"round\" style=\"stroke:black;stroke-width:1\" /><line x1=\"760.511\" y1=\"739.308\" x2=\"766.684\" y2=\"750.0\" stroke-linecap=\"round\" style=\"stroke:black;stroke-width:1\" /><line x1=\"766.684\" y1=\"750.0\" x2=\"779.03\" y2=\"750.0\" stroke-linecap=\"round\" style=\"stroke:black;stroke-width:1\" /><line x1=\"779.03\" y1=\"750.0\" x2=\"785.203\" y2=\"739.308\" stroke-linecap=\"round\" style=\"stroke:black;stroke-width:1\" /><line x1=\"785.203\" y1=\"739.308\" x2=\"791.376\" y2=\"750.0\" stroke-linecap=\"round\" style=\"stroke:black;stroke-width:1\" /><line x1=\"791.376\" y1=\"750.0\" x2=\"803.722\" y2=\"750.0\" stroke-linecap=\"round\" style=\"stroke:black;stroke-width:1\" /><line x1=\"803.722\" y1=\"750.0\" x2=\"809.895\" y2=\"739.308\" stroke-linecap=\"round\" style=\"stroke:black;stroke-width:1\" /><line x1=\"809.895\" y1=\"739.308\" x2=\"803.722\" y2=\"728.616\" stroke-linecap=\"round\" style=\"stroke:black;stroke-width:1\" /><line x1=\"803.722\" y1=\"728.616\" x2=\"816.068\" y2=\"728.616\" stroke-linecap=\"round\" style=\"stroke:black;stroke-width:1\" /><line x1=\"816.068\" y1=\"728.616\" x2=\"822.241\" y2=\"717.924\" stroke-linecap=\"round\" style=\"stroke:black;stroke-width:1\" /><line x1=\"822.241\" y1=\"717.924\" x2=\"828.414\" y2=\"728.616\" stroke-linecap=\"round\" style=\"stroke:black;stroke-width:1\" /><line x1=\"828.414\" y1=\"728.616\" x2=\"840.76\" y2=\"728.616\" stroke-linecap=\"round\" style=\"stroke:black;stroke-width:1\" /><line x1=\"840.76\" y1=\"728.616\" x2=\"834.587\" y2=\"739.308\" stroke-linecap=\"round\" style=\"stroke:black;stroke-width:1\" /><line x1=\"834.587\" y1=\"739.308\" x2=\"840.76\" y2=\"750.0\" stroke-linecap=\"round\" style=\"stroke:black;stroke-width:1\" /><line x1=\"840.76\" y1=\"750.0\" x2=\"853.106\" y2=\"750.0\" stroke-linecap=\"round\" style=\"stroke:black;stroke-width:1\" /><line x1=\"853.106\" y1=\"750.0\" x2=\"859.279\" y2=\"739.308\" stroke-linecap=\"round\" style=\"stroke:black;stroke-width:1\" /><line x1=\"859.279\" y1=\"739.308\" x2=\"865.452\" y2=\"750.0\" stroke-linecap=\"round\" style=\"stroke:black;stroke-width:1\" /><line x1=\"865.452\" y1=\"750.0\" x2=\"877.798\" y2=\"750.0\" stroke-linecap=\"round\" style=\"stroke:black;stroke-width:1\" /><line x1=\"877.798\" y1=\"750.0\" x2=\"883.971\" y2=\"739.308\" stroke-linecap=\"round\" style=\"stroke:black;stroke-width:1\" /><line x1=\"883.971\" y1=\"739.308\" x2=\"877.798\" y2=\"728.616\" stroke-linecap=\"round\" style=\"stroke:black;stroke-width:1\" /><line x1=\"877.798\" y1=\"728.616\" x2=\"890.144\" y2=\"728.616\" stroke-linecap=\"round\" style=\"stroke:black;stroke-width:1\" /><line x1=\"890.144\" y1=\"728.616\" x2=\"896.317\" y2=\"717.924\" stroke-linecap=\"round\" style=\"stroke:black;stroke-width:1\" /><line x1=\"896.317\" y1=\"717.924\" x2=\"890.144\" y2=\"707.232\" stroke-linecap=\"round\" style=\"stroke:black;stroke-width:1\" /><line x1=\"890.144\" y1=\"707.232\" x2=\"877.798\" y2=\"707.232\" stroke-linecap=\"round\" style=\"stroke:black;stroke-width:1\" /><line x1=\"877.798\" y1=\"707.232\" x2=\"883.971\" y2=\"696.54\" stroke-linecap=\"round\" style=\"stroke:black;stroke-width:1\" /><line x1=\"883.971\" y1=\"696.54\" x2=\"877.798\" y2=\"685.848\" stroke-linecap=\"round\" style=\"stroke:black;stroke-width:1\" /><line x1=\"877.798\" y1=\"685.848\" x2=\"890.144\" y2=\"685.848\" stroke-linecap=\"round\" style=\"stroke:black;stroke-width:1\" /><line x1=\"890.144\" y1=\"685.848\" x2=\"896.317\" y2=\"675.156\" stroke-linecap=\"round\" style=\"stroke:black;stroke-width:1\" /><line x1=\"896.317\" y1=\"675.156\" x2=\"902.49\" y2=\"685.848\" stroke-linecap=\"round\" style=\"stroke:black;stroke-width:1\" /><line x1=\"902.49\" y1=\"685.848\" x2=\"914.836\" y2=\"685.848\" stroke-linecap=\"round\" style=\"stroke:black;stroke-width:1\" /><line x1=\"914.836\" y1=\"685.848\" x2=\"921.009\" y2=\"675.156\" stroke-linecap=\"round\" style=\"stroke:black;stroke-width:1\" /><line x1=\"921.009\" y1=\"675.156\" x2=\"914.836\" y2=\"664.464\" stroke-linecap=\"round\" style=\"stroke:black;stroke-width:1\" /><line x1=\"914.836\" y1=\"664.464\" x2=\"927.182\" y2=\"664.464\" stroke-linecap=\"round\" style=\"stroke:black;stroke-width:1\" /><line x1=\"927.182\" y1=\"664.464\" x2=\"933.355\" y2=\"653.772\" stroke-linecap=\"round\" style=\"stroke:black;stroke-width:1\" /><line x1=\"933.355\" y1=\"653.772\" x2=\"939.528\" y2=\"664.464\" stroke-linecap=\"round\" style=\"stroke:black;stroke-width:1\" /><line x1=\"939.528\" y1=\"664.464\" x2=\"951.874\" y2=\"664.464\" stroke-linecap=\"round\" style=\"stroke:black;stroke-width:1\" /><line x1=\"951.874\" y1=\"664.464\" x2=\"945.701\" y2=\"675.156\" stroke-linecap=\"round\" style=\"stroke:black;stroke-width:1\" /><line x1=\"945.701\" y1=\"675.156\" x2=\"951.874\" y2=\"685.848\" stroke-linecap=\"round\" style=\"stroke:black;stroke-width:1\" /><line x1=\"951.874\" y1=\"685.848\" x2=\"964.22\" y2=\"685.848\" stroke-linecap=\"round\" style=\"stroke:black;stroke-width:1\" /><line x1=\"964.22\" y1=\"685.848\" x2=\"970.393\" y2=\"675.156\" stroke-linecap=\"round\" style=\"stroke:black;stroke-width:1\" /><line x1=\"970.393\" y1=\"675.156\" x2=\"976.566\" y2=\"685.848\" stroke-linecap=\"round\" style=\"stroke:black;stroke-width:1\" /><line x1=\"976.566\" y1=\"685.848\" x2=\"988.912\" y2=\"685.848\" stroke-linecap=\"round\" style=\"stroke:black;stroke-width:1\" /><line x1=\"988.912\" y1=\"685.848\" x2=\"982.739\" y2=\"696.54\" stroke-linecap=\"round\" style=\"stroke:black;stroke-width:1\" /><line x1=\"982.739\" y1=\"696.54\" x2=\"988.912\" y2=\"707.232\" stroke-linecap=\"round\" style=\"stroke:black;stroke-width:1\" /><line x1=\"988.912\" y1=\"707.232\" x2=\"976.566\" y2=\"707.232\" stroke-linecap=\"round\" style=\"stroke:black;stroke-width:1\" /><line x1=\"976.566\" y1=\"707.232\" x2=\"970.393\" y2=\"717.924\" stroke-linecap=\"round\" style=\"stroke:black;stroke-width:1\" /><line x1=\"970.393\" y1=\"717.924\" x2=\"976.566\" y2=\"728.616\" stroke-linecap=\"round\" style=\"stroke:black;stroke-width:1\" /><line x1=\"976.566\" y1=\"728.616\" x2=\"988.912\" y2=\"728.616\" stroke-linecap=\"round\" style=\"stroke:black;stroke-width:1\" /><line x1=\"988.912\" y1=\"728.616\" x2=\"982.739\" y2=\"739.308\" stroke-linecap=\"round\" style=\"stroke:black;stroke-width:1\" /><line x1=\"982.739\" y1=\"739.308\" x2=\"988.912\" y2=\"750.0\" stroke-linecap=\"round\" style=\"stroke:black;stroke-width:1\" /><line x1=\"988.912\" y1=\"750.0\" x2=\"1001.258\" y2=\"750.0\" stroke-linecap=\"round\" style=\"stroke:black;stroke-width:1\" /><line x1=\"1001.258\" y1=\"750.0\" x2=\"1007.431\" y2=\"739.308\" stroke-linecap=\"round\" style=\"stroke:black;stroke-width:1\" /><line x1=\"1007.431\" y1=\"739.308\" x2=\"1013.604\" y2=\"750.0\" stroke-linecap=\"round\" style=\"stroke:black;stroke-width:1\" /><line x1=\"1013.604\" y1=\"750.0\" x2=\"1025.95\" y2=\"750.0\" stroke-linecap=\"round\" style=\"stroke:black;stroke-width:1\" /><line x1=\"1025.95\" y1=\"750.0\" x2=\"1032.123\" y2=\"739.308\" stroke-linecap=\"round\" style=\"stroke:black;stroke-width:1\" /><line x1=\"1032.123\" y1=\"739.308\" x2=\"1025.95\" y2=\"728.616\" stroke-linecap=\"round\" style=\"stroke:black;stroke-width:1\" /><line x1=\"1025.95\" y1=\"728.616\" x2=\"1038.296\" y2=\"728.616\" stroke-linecap=\"round\" style=\"stroke:black;stroke-width:1\" /><line x1=\"1038.296\" y1=\"728.616\" x2=\"1044.469\" y2=\"717.924\" stroke-linecap=\"round\" style=\"stroke:black;stroke-width:1\" /><line x1=\"1044.469\" y1=\"717.924\" x2=\"1050.642\" y2=\"728.616\" stroke-linecap=\"round\" style=\"stroke:black;stroke-width:1\" /><line x1=\"1050.642\" y1=\"728.616\" x2=\"1062.988\" y2=\"728.616\" stroke-linecap=\"round\" style=\"stroke:black;stroke-width:1\" /><line x1=\"1062.988\" y1=\"728.616\" x2=\"1056.815\" y2=\"739.308\" stroke-linecap=\"round\" style=\"stroke:black;stroke-width:1\" /><line x1=\"1056.815\" y1=\"739.308\" x2=\"1062.988\" y2=\"750.0\" stroke-linecap=\"round\" style=\"stroke:black;stroke-width:1\" /><line x1=\"1062.988\" y1=\"750.0\" x2=\"1075.334\" y2=\"750.0\" stroke-linecap=\"round\" style=\"stroke:black;stroke-width:1\" /><line x1=\"1075.334\" y1=\"750.0\" x2=\"1081.507\" y2=\"739.308\" stroke-linecap=\"round\" style=\"stroke:black;stroke-width:1\" /><line x1=\"1081.507\" y1=\"739.308\" x2=\"1087.68\" y2=\"750.0\" stroke-linecap=\"round\" style=\"stroke:black;stroke-width:1\" /><line x1=\"1087.68\" y1=\"750.0\" x2=\"1097.68\" y2=\"750.0\" stroke-linecap=\"round\" style=\"stroke:black;stroke-width:1\" /><line x1=\"1097.68\" y1=\"750.0\" x2=\"1100.0256790123458\" y2=\"750.0\" stroke-linecap=\"round\" style=\"stroke:black;stroke-width:1\" />\n",
              "        \n",
              "        \n",
              "        <g id=\"turtle\" visibility=\"visible\" transform=\"rotate(90,1100.0256790123458,750.0) translate(1100.0256790123458, 750.0)\">\n",
              "<path style=\"stroke:black;fill-rule:evenodd;fill:black;fill-opacity:1;\" transform=\"skewX(0) scale(1,1)\" d=\"m 1.1536693,-18.56101 c -2.105469,1.167969 -3.203125,3.441407 -3.140625,6.5 l 0.011719,0.519532 -0.300782,-0.15625 c -1.308594,-0.671875 -2.828125,-0.824219 -4.378906,-0.429688 -1.9375,0.484375 -3.8906253,2.089844 -6.0117193,4.9257825 -1.332031,1.785156 -1.714843,2.644531 -1.351562,3.035156 l 0.113281,0.125 h 0.363281 c 0.71875,0 1.308594,-0.265625 4.6679693,-2.113282 1.199219,-0.660156 2.183594,-1.199218 2.191406,-1.199218 0.00781,0 -0.023437,0.089844 -0.074218,0.195312 -0.472657,1.058594 -1.046876,2.785156 -1.335938,4.042969 -1.054688,4.574219 -0.351562,8.453125 2.101562,11.582031 0.28125,0.355469 0.292969,0.253906 -0.097656,0.722656 -2.046875,2.4609375 -3.027344,4.8984375 -2.734375,6.8046875 0.050781,0.339844 0.042969,0.335938 0.679688,0.335938 2.023437,0 4.15625,-1.316407 6.21875,-3.835938 0.222656,-0.269531 0.191406,-0.261719 0.425781,-0.113281 0.730469,0.46875 2.460938,1.390625 2.613281,1.390625 0.160157,0 1.765625,-0.753906 2.652344,-1.246094 0.167969,-0.09375 0.308594,-0.164062 0.308594,-0.160156 0.066406,0.105468 0.761719,0.855468 1.085937,1.171875 1.613282,1.570312 3.339844,2.402343 5.3593747,2.570312 0.324219,0.02734 0.355469,0.0078 0.425781,-0.316406 0.375,-1.742187 -0.382812,-4.058594 -2.1445307,-6.5585935 l -0.320312,-0.457031 0.15625,-0.183594 c 3.2460927,-3.824218 3.4335927,-9.08593704 0.558593,-15.816406 l -0.050781,-0.125 1.7382807,0.859375 c 3.585938,1.773437 4.371094,2.097656 5.085938,2.097656 0.945312,0 0.75,-0.863281 -0.558594,-2.507812 C 11.458356,-11.838353 8.3333563,-13.268041 4.8607003,-11.721166 l -0.363281,0.164063 0.019531,-0.09375 c 0.121094,-0.550781 0.183594,-1.800781 0.121094,-2.378907 -0.203125,-1.867187 -1.035157,-3.199218 -2.695313,-4.308593 -0.523437,-0.351563 -0.546875,-0.355469 -0.789062,-0.222657\" />\n",
              "</g>\n",
              "      </svg>\n",
              "    "
            ]
          },
          "metadata": {}
        },
        {
          "name": "stdout",
          "output_type": "stream",
          "text": [
            "コッホ曲線\n",
            "5字以下の数字を入力してください 4\n"
          ]
        }
      ]
    },
    {
      "cell_type": "code",
      "source": [
        "print('ルール説明\\n5種類:◯,□,↘︎,＋,× それぞれ3枚ずつ計15枚のカードを使う。')\n",
        "img = np.zeros( (560, 750, 3), np.uint8 ) \n",
        "img.fill( 255 )\n",
        "for i in range(5):\n",
        "  for j in range(3):\n",
        "     cv2.rectangle(img,(50+140*i,50+170*j),(140+140*i,170+170*j),color=(0,0,0))\n",
        "for a in range(3):\n",
        "  cv2.circle(img,(95,110+170*a),20,color=(0),thickness=-1)\n",
        "  cv2.rectangle(img,(215,90+170*a),(255,130+170*a),color=(0),thickness=-1)\n",
        "  cv2.arrowedLine(img,(355,90+170*a),(395,130+170*a),color=(0),thickness=3)\n",
        "  cv2.line(img,(515,90+170*a),(515,130+170*a),color=(0),thickness=3)\n",
        "  cv2.line(img,(495,110+170*a),(535,110+170*a),color=(0),thickness=3)\n",
        "  cv2.line(img,(635,90+170*a),(675,130+170*a),color=(0),thickness=3)\n",
        "  cv2.line(img,(635,130+170*a),(675,90+170*a),color=(0),thickness=3)\n",
        "cv2_imshow(img)\n",
        "def make_circle(a,b,c,img):\n",
        "  cv2.circle(img,(a,b),c,color=(0),thickness=-1)\n",
        "\n",
        "def make_rectangle(a,b,c,d,img):\n",
        "  cv2.rectangle(img,(a,b),(c,d),color=(0),thickness=-1)\n",
        "\n",
        "def make_ya(a,b,c,d,img):\n",
        "  cv2.arrowedLine(img,(a,b),(c,d),color=(0),thickness=3)\n",
        "\n",
        "def make_pulus(a,b,c,d,e,f,g,h,img):\n",
        "  cv2.line(img,(a,b),(c,d),color=(0),thickness=3)\n",
        "  cv2.line(img,(e,f),(g,h),color=(0),thickness=3)\n",
        "\n",
        "def make_batsu(a,b,c,d,e,f,g,h,img):\n",
        "  cv2.line(img,(a,b),(c,d),color=(0),thickness=3)\n",
        "  cv2.line(img,(e,f),(g,h),color=(0),thickness=3)\n",
        "\n",
        "print('この内から無作為に除かれた1枚のカードのマークを当てる。\\nゲーム開始時にお互いにそれぞれ3枚ずつカードが配られ，先手と後手を決めターン毎に交互にマークを答える。1ターン目のみカードを好きな枚数オープンでき，\\nオープンした枚数新たにカードを得られる。オープンするカードは画面の右側のカードからオープンされる。\\n先に除けれたカードのマークを当てた方の勝利。')\n"
      ],
      "metadata": {
        "id": "qnHg8bbUOXcg",
        "outputId": "d8948c92-8064-4a2d-eb66-a7543ccc8ed5",
        "colab": {
          "base_uri": "https://localhost:8080/",
          "height": 679
        }
      },
      "execution_count": 2,
      "outputs": [
        {
          "output_type": "stream",
          "name": "stdout",
          "text": [
            "ルール説明\n",
            "5種類:◯,□,↘︎,＋,× それぞれ3枚ずつ計15枚のカードを使う。\n"
          ]
        },
        {
          "output_type": "display_data",
          "data": {
            "text/plain": [
              "<PIL.Image.Image image mode=RGB size=750x560 at 0x7FA74F880A90>"
            ],
            "image/png": "[encoded data removed]"
          },
          "metadata": {}
        },
        {
          "output_type": "stream",
          "name": "stdout",
          "text": [
            "この内から無作為に除かれた1枚のカードのマークを当てる。\n",
            "ゲーム開始時にお互いにそれぞれ3枚ずつカードが配られ，先手と後手を決めターン毎に交互にマークを答える。1ターン目のみカードを好きな枚数オープンでき，\n",
            "オープンした枚数新たにカードを得られる。オープンするカードは画面の右側のカードからオープンされる。\n",
            "先に除けれたカードのマークを当てた方の勝利。\n"
          ]
        }
      ]
    },
    {
      "cell_type": "code",
      "source": [
        "print('先手と後手を決めて，先手にパソコンを渡してください')"
      ],
      "metadata": {
        "id": "MLC96ZIJG7IV",
        "outputId": "b6a49252-f26b-4b41-9abb-a4a1fe5bffec",
        "colab": {
          "base_uri": "https://localhost:8080/"
        }
      },
      "execution_count": 3,
      "outputs": [
        {
          "output_type": "stream",
          "name": "stdout",
          "text": [
            "先手と後手を決めて，先手にパソコンを渡してください\n"
          ]
        }
      ]
    },
    {
      "cell_type": "code",
      "source": [
        "marklist=['○','□','↘︎','＋','×','○','□','↘︎','＋','×','○','□','↘︎','＋','×']\n",
        "num=np.random.randint(0,15)\n",
        "ans=marklist[num]\n",
        "marklist.pop(num)\n",
        "\n",
        "menum1=np.random.randint(0,14)\n",
        "mecard1=marklist[menum1]\n",
        "marklist.pop(menum1)\n",
        "\n",
        "menum2=np.random.randint(0,13)\n",
        "mecard2=marklist[menum2]\n",
        "marklist.pop(menum2)\n",
        "\n",
        "menum3=np.random.randint(0,12)\n",
        "mecard3=marklist[menum3]\n",
        "marklist.pop(menum3)\n",
        "\n",
        "\n",
        "younum1=np.random.randint(0,11)\n",
        "youcard1=marklist[younum1]\n",
        "marklist.pop(younum1)\n",
        "\n",
        "younum2=np.random.randint(0,10)\n",
        "youcard2=marklist[younum2]\n",
        "marklist.pop(younum2)\n",
        "\n",
        "younum3=np.random.randint(0,9)\n",
        "youcard3=marklist[younum3]\n",
        "marklist.pop(younum3)\n",
        "\n",
        "print('スタート\\nあなたのカード')\n",
        "img2 = np.zeros( (220, 470, 3), np.uint8 ) \n",
        "img2.fill( 255 )\n",
        "for i in range(3):\n",
        "  cv2.rectangle(img2,(50+140*i,50),(140+140*i,170),color=(0))\n",
        "if mecard1=='○':\n",
        "  make_circle(95,110,20,img2)\n",
        "elif mecard1=='□':\n",
        "  make_rectangle(75,90,115,130,img2)\n",
        "elif mecard1=='↘︎':\n",
        "  make_ya(75,90,115,130,img2)\n",
        "elif mecard1=='＋':\n",
        "  make_pulus(95,90,95,130,75,110,115,110,img2)\n",
        "elif mecard1=='×':\n",
        "  make_batsu(75,90,115,130,115,90,75,130,img2)\n",
        "if mecard2=='○':\n",
        "  make_circle(235,110,20,img2)\n",
        "elif mecard2=='□':\n",
        "  make_rectangle(215,90,255,130,img2)\n",
        "elif mecard2=='↘︎':\n",
        "  make_ya(215,90,255,130,img2)\n",
        "elif mecard2=='＋':\n",
        "  make_pulus(235,90,235,130,215,110,255,110,img2)\n",
        "elif mecard2=='×':\n",
        "  make_batsu(215,90,255,130,255,90,215,130,img2)\n",
        "if mecard3=='○':\n",
        "  make_circle(375,110,20,img2)\n",
        "elif mecard3=='□':\n",
        "  make_rectangle(355,90,395,130,img2)\n",
        "elif mecard3=='↘︎':\n",
        "  make_ya(355,90,395,130,img2)\n",
        "elif mecard3=='＋':\n",
        "  make_pulus(375,90,375,130,355,110,395,110,img2)\n",
        "elif mecard3=='×':\n",
        "  make_batsu(355,90,395,130,395,90,355,130,img2)\n",
        "cv2_imshow(img2)\n",
        "print('パソコンを渡してください')"
      ],
      "metadata": {
        "id": "qzjcsHjy2hUr",
        "outputId": "cc7e5169-7304-4137-d7da-71bc3600a394",
        "colab": {
          "base_uri": "https://localhost:8080/",
          "height": 288
        }
      },
      "execution_count": 11,
      "outputs": [
        {
          "output_type": "stream",
          "name": "stdout",
          "text": [
            "スタート\n",
            "あなたのカード\n"
          ]
        },
        {
          "output_type": "display_data",
          "data": {
            "text/plain": [
              "<PIL.Image.Image image mode=RGB size=470x220 at 0x7FA74F8239A0>"
            ],
            "image/png": "[encoded data removed]"
          },
          "metadata": {}
        },
        {
          "output_type": "stream",
          "name": "stdout",
          "text": [
            "パソコンを渡してください\n"
          ]
        }
      ]
    },
    {
      "cell_type": "code",
      "source": [
        "print('あなたのカード')\n",
        "img3 = np.zeros( (220, 470, 3), np.uint8 ) \n",
        "img3.fill( 255 )\n",
        "for i in range(3):\n",
        "  cv2.rectangle(img3,(50+140*i,50),(140+140*i,170),color=(0))\n",
        "if youcard1=='○':\n",
        "  make_circle(95,110,20,img3)\n",
        "elif youcard1=='□':\n",
        "  make_rectangle(75,90,115,130,img3)\n",
        "elif youcard1=='↘︎':\n",
        "  make_ya(75,90,115,130,img3)\n",
        "elif youcard1=='＋':\n",
        "  make_pulus(95,90,95,130,75,110,115,110,img3)\n",
        "elif youcard1=='×':\n",
        "  make_batsu(75,90,115,130,115,90,75,130,img3)\n",
        "if youcard2=='○':\n",
        "  make_circle(235,110,20,img3)\n",
        "elif youcard2=='□':\n",
        "  make_rectangle(215,90,255,130,img3)\n",
        "elif youcard2=='↘︎':\n",
        "  make_ya(215,90,255,130,img3)\n",
        "elif youcard2=='＋':\n",
        "  make_pulus(235,90,235,130,215,110,255,110,img3)\n",
        "elif youcard2=='×':\n",
        "  make_batsu(215,90,255,130,255,90,215,130,img3)\n",
        "if youcard3=='○':\n",
        "  make_circle(375,110,20,img3)\n",
        "elif youcard3=='□':\n",
        "  make_rectangle(355,90,395,130,img3)\n",
        "elif youcard3=='↘︎':\n",
        "  make_ya(355,90,395,130,img3)\n",
        "elif youcard3=='＋':\n",
        "  make_pulus(375,90,375,130,355,110,395,110,img3)\n",
        "elif youcard3=='×':\n",
        "  make_batsu(355,90,395,130,395,90,355,130,img3)\n",
        "cv2_imshow(img3)\n",
        "print('パソコンを渡してください\\n\\n\\n\\n\\n\\n\\n\\n\\n\\n\\n\\n')"
      ],
      "metadata": {
        "id": "3BgF19jtFb9s",
        "outputId": "3e0ab238-25f4-4d76-c7fe-dc83dcca731a",
        "colab": {
          "base_uri": "https://localhost:8080/",
          "height": 475
        }
      },
      "execution_count": 12,
      "outputs": [
        {
          "output_type": "stream",
          "name": "stdout",
          "text": [
            "あなたのカード\n"
          ]
        },
        {
          "output_type": "display_data",
          "data": {
            "text/plain": [
              "<PIL.Image.Image image mode=RGB size=470x220 at 0x7FA74F81E9A0>"
            ],
            "image/png": "[encoded data removed]"
          },
          "metadata": {}
        },
        {
          "output_type": "stream",
          "name": "stdout",
          "text": [
            "パソコンを渡してください\n",
            "\n",
            "\n",
            "\n",
            "\n",
            "\n",
            "\n",
            "\n",
            "\n",
            "\n",
            "\n",
            "\n",
            "\n"
          ]
        }
      ]
    },
    {
      "cell_type": "code",
      "source": [
        "img4 = np.zeros( (220, 470, 3), np.uint8 ) \n",
        "img4.fill( 255 )\n",
        "first_open=int(input('オープンするカードの枚数を入力してください'))\n",
        "while True:\n",
        "  if first_open==0:\n",
        "    print('パソコンを渡してください')\n",
        "    break\n",
        "  elif first_open==1:\n",
        "    print('パソコンを共有してください')\n",
        "    cv2.rectangle(img4,(50,50),(140,170),color=(0))\n",
        "    if mecard1=='○':\n",
        "      make_circle(95,110,20,img4)\n",
        "    elif mecard1=='□':\n",
        "      make_rectangle(75,90,115,130,img4)\n",
        "    elif mecard1=='↘︎':\n",
        "      make_ya(75,90,115,130,img4)\n",
        "    elif mecard1=='＋':\n",
        "      make_pulus(95,90,95,130,75,110,115,110,img4)\n",
        "    elif mecard1=='×':\n",
        "      make_batsu(75,90,115,130,115,90,75,130,img4)\n",
        "    cv2_imshow(img4)\n",
        "    break\n",
        "  elif first_open==2:\n",
        "    print('パソコンを共有してください')\n",
        "    for i in range(2):\n",
        "      cv2.rectangle(img4,(50+140*i,50),(140+140*i,170),color=(0))\n",
        "    if mecard1=='○':\n",
        "      make_circle(95,110,20,img4)\n",
        "    elif mecard1=='□':\n",
        "      make_rectangle(75,90,115,130,img4)\n",
        "    elif mecard1=='↘︎':\n",
        "      make_ya(75,90,115,130,img4)\n",
        "    elif mecard1=='＋':\n",
        "      make_pulus(95,90,95,130,75,110,115,110,img4)\n",
        "    elif mecard1=='×':\n",
        "      make_batsu(75,90,115,130,115,90,75,130,img4)\n",
        "    if mecard2=='○':\n",
        "      make_circle(235,110,20,img4)\n",
        "    elif mecard2=='□':\n",
        "      make_rectangle(215,90,255,130,img4)\n",
        "    elif mecard2=='↘︎':\n",
        "      make_ya(215,90,255,130,img4)\n",
        "    elif mecard2=='＋':\n",
        "      make_pulus(235,90,235,130,215,110,255,110,img4)\n",
        "    elif mecard2=='×':\n",
        "      make_batsu(215,90,255,130,255,90,215,130,img4)\n",
        "    cv2_imshow(img4)\n",
        "    break\n",
        "  elif first_open==3:\n",
        "    print('パソコンを共有してください')\n",
        "    cv2_imshow(img3)\n",
        "    break\n",
        "  else:\n",
        "    continue"
      ],
      "metadata": {
        "id": "YOMxJrJdHPsD"
      },
      "execution_count": null,
      "outputs": []
    },
    {
      "cell_type": "code",
      "source": [],
      "metadata": {
        "id": "TZXcckZ3lTC5"
      },
      "execution_count": null,
      "outputs": []
    }
  ]
}