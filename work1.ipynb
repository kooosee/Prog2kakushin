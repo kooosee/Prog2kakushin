{
  "nbformat": 4,
  "nbformat_minor": 0,
  "metadata": {
    "colab": {
      "provenance": [],
      "authorship_tag": "ABX9TyORK7rj7UJsF/761fr0VpVk",
      "include_colab_link": true
    },
    "kernelspec": {
      "name": "python3",
      "display_name": "Python 3"
    },
    "language_info": {
      "name": "python"
    }
  },
  "cells": [
    {
      "cell_type": "markdown",
      "metadata": {
        "id": "view-in-github",
        "colab_type": "text"
      },
      "source": [
        "<a href=\"https://colab.research.google.com/github/kooosee/Prog2kakushin/blob/main/work1.ipynb\" target=\"_parent\"><img src=\"https://colab.research.google.com/assets/colab-badge.svg\" alt=\"Open In Colab\"/></a>"
      ]
    },
    {
      "cell_type": "markdown",
      "source": [
        "## pandasの表を使って'IdentityⅤ'(ゲーム)のデータを作りグラフ化する\n",
        "\n"
      ],
      "metadata": {
        "id": "uZFU0g0i8wsr"
      }
    },
    {
      "cell_type": "code",
      "source": [
        "import pandas as pd\n",
        "from matplotlib import pyplot as plt"
      ],
      "metadata": {
        "id": "9CRPJh_1Rl55"
      },
      "execution_count": 1,
      "outputs": []
    },
    {
      "cell_type": "code",
      "source": [
        "df=pd.DataFrame([ ['ZETA_vanpyi',12,1,8,3,8],['ZETA_alf',21,11,5,5,52],['RC_Aka',14,3,6,5,21],['RC_shota',22,6,9,7,27],['SZ_MiraiK',12,3,3,6,25],['SZ_SiLia',20,7,7,6,35],['AXIZ_Rose',32,8,10,14,25],['CG_Surume',6,4,1,1,66],['CG_Ryz',27,6,11,10,22],['Dawn_Burio',30,4,16,10,13],['Dawn_Wolf',3,0,1,2,0],['FL_Hasha',17,6,6,5,35],['FL_noNino',14,6,2,6,42] ])\n",
        "df.columns=['選手名','試合数','勝ち数','分け数','負け数','勝率(%)']\n",
        "df_winper=df.sort_values('勝率(%)',ascending=False)\n",
        "df_winper\n",
        "def graphmake():\n",
        "  info=input('1:試合数\\n2:勝ち数\\n3:分け数\\n4:負け数\\n5:勝率(%)\\n')\n",
        "  if info==1:\n",
        "    plt.plot(df['選手名'],df['試合数'])\n",
        "  elif info==2:\n",
        "    plt.plot(df['選手名'],df['勝ち数'])\n",
        "  elif info==3:\n",
        "    plt.plot(df['選手名'],df['分け数'])\n",
        "  elif info==4:\n",
        "    plt.plot(df['選手名'],df['負け数'])\n",
        "  elif info==5:\n",
        "    plt.plot(df['選手名'],df['勝率(%)'])\n",
        "  else:\n",
        "    return info\n"
      ],
      "metadata": {
        "id": "rpzwVA98-AwB"
      },
      "execution_count": null,
      "outputs": []
    }
  ]
}