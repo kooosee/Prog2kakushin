{
  "nbformat": 4,
  "nbformat_minor": 0,
  "metadata": {
    "colab": {
      "provenance": [],
      "authorship_tag": "ABX9TyMG6GWFqAeedBc6pET3Hapz",
      "include_colab_link": true
    },
    "kernelspec": {
      "name": "python3",
      "display_name": "Python 3"
    },
    "language_info": {
      "name": "python"
    }
  },
  "cells": [
    {
      "cell_type": "markdown",
      "metadata": {
        "id": "view-in-github",
        "colab_type": "text"
      },
      "source": [
        "<a href=\"https://colab.research.google.com/github/kooosee/Prog2kakushin/blob/main/work1.ipynb\" target=\"_parent\"><img src=\"https://colab.research.google.com/assets/colab-badge.svg\" alt=\"Open In Colab\"/></a>"
      ]
    },
    {
      "cell_type": "markdown",
      "source": [
        "## pandasの表を使って'IdentityⅤ'(ゲーム)のデータを作りグラフ化する\n",
        "\n"
      ],
      "metadata": {
        "id": "uZFU0g0i8wsr"
      }
    },
    {
      "cell_type": "code",
      "source": [
        "import pandas as pd\n",
        "from matplotlib import pyplot as plt\n",
        "import numpy as np"
      ],
      "metadata": {
        "id": "9CRPJh_1Rl55"
      },
      "execution_count": 1,
      "outputs": []
    },
    {
      "cell_type": "code",
      "source": [
        "df=pd.DataFrame([ ['ZETA_vanpyi',12,1,8,3,8.0],['ZETA_alf',21,11,5,5,52],['RC_Aka',14,3,6,5,21],['RC_shota',22,6,9,7,27],['SZ_MiraiK',12,3,3,6,25],['SZ_SiLia',20,7,7,6,35],['AXIZ_Rose',32,8,10,14,25],['CG_Surume',6,4,1,1,66],['CG_Ryz',27,6,11,10,22],['Dawn_Burio',30,4,16,10,13],['Dawn_Wolf',3,0,1,2,0],['FL_Hasha',17,6,6,5,35],['FL_noNino',14,6,2,6,42] ])\n",
        "df.columns=['選手名','試合数','勝ち数','分け数','負け数','勝率(%)']\n",
        "df2=pd.DataFrame([ [8.0,75.0,8.3,66.7,25.0],[52.0,76.0,38.1,23.8,23.8],[21.0,64.0,7.1,42.9,35.7],[27.0,68.0,13.6,40.9,31.8],[25.0,50.0,16.7,25.0,50.0],[35.0,70.0,20.0,35.0,30.0],[25.0,56.0,12.5,31.3,43.8],[66.0,83.0,33.3,16.7,16.7],[22.0,63.0,14.8,40.7,37.0],[13.0,66.0,6.70,53.3,33.3],[0.0,33.0,0.0,33.3,66.7],[35.0,70.0,17.6,35.0,29.4],[42.0,57.0,21.4,14.3,42.0] ])\n",
        "df2.columns=['勝率','引き分け以上率','4吊り率','引き分け率','負け率']\n",
        "df2.index=['ZETA_vanpyi','ZETA_alf','RC_Aka','RC_shota','SZ_MiraiK','SZ_SiLia','AXIZ_Rose','CG_Surume','CG_Ryz','Dawn_Burio','Dawn_Wolf','FL_Hasha','FL_noNino']\n",
        "namelist=['ZETA_vanpyi','ZETA_alf','RC_Aka','RC_shota','SZ_MiraiK','SZ_SiLia','AXIZ_Rose','CG_Surume','CG_Ryz','Dawn_Burio','Dawn_Wolf','FL_Hasha','FL_noNino']\n",
        "def graphmake():\n",
        "  while True:\n",
        "    info=int(input('表示するデータを選んでください\\n1:試合数\\n2:勝ち数\\n3:分け数\\n4:負け数\\n5:勝率(%)\\n6:個人データ\\n'))\n",
        "    if info==1:\n",
        "      plt.figure(figsize=(15,5))\n",
        "      plt.bar(df['選手名'],df['試合数'])\n",
        "      break\n",
        "    elif info==2:\n",
        "      plt.figure(figsize=(15,5))\n",
        "      plt.bar(df['選手名'],df['勝ち数'])\n",
        "      break\n",
        "    elif info==3:\n",
        "      plt.figure(figsize=(15,5))\n",
        "      plt.bar(df['選手名'],df['分け数'])\n",
        "      break\n",
        "    elif info==4:\n",
        "      plt.figure(figsize=(15,5))\n",
        "      plt.bar(df['選手名'],df['負け数'])\n",
        "      break\n",
        "    elif info==5:\n",
        "      plt.figure(figsize=(15,5))\n",
        "      plt.bar(df['選手名'],df['勝率(%)'])\n",
        "      break\n",
        "    elif info==6:\n",
        "      while True:\n",
        "        name=input('表示する選手名を入力してください\\nZETA_vanpyi\\nZETA_alf\\nRC_Aka\\nRC_shota\\nSZ_MiraiK\\nSZ_SiLia\\nAXIZ_Rose\\nCG_Surume\\nCG_Ryz\\nDawn_Burio\\nDawn_Wolf\\nFL_Hasha\\nFL_noNino\\n')\n",
        "        if name not in namelist:\n",
        "          continue\n",
        "        else:\n",
        "          def radarchart(name):\n",
        "            labels=['win rate','more than draw rate','4 drop out rate','draw rate','lose rate']\n",
        "            radar_values=np.concatenate([df2.loc[name],[df2.loc[name]['勝率']]])   \n",
        "            angles=np.linspace(0,2*np.pi,6,endpoint=True)   \n",
        "            grid=[0,20,40,60,80,100]                                \n",
        "            fig=plt.figure(facecolor='w')\n",
        "            ax=fig.add_subplot(1, 1, 1, polar=True)                 \n",
        "            ax.plot(angles, radar_values)                           \n",
        "            ax.fill(angles, radar_values, alpha=0.2)                \n",
        "            ax.set_thetagrids(angles[:-1] * 180 / np.pi, labels)    \n",
        "            ax.set_rgrids([])                                       \n",
        "            ax.spines['polar'].set_visible(False)                  \n",
        "            ax.set_theta_zero_location(\"N\")                         \n",
        "            ax.set_theta_direction(-1)                              \n",
        "            for grid_value in grid:\n",
        "              grid_values = [grid_value] * (len(labels)+1)\n",
        "              ax.plot(angles, grid_values, color=\"gray\",  linewidth=0.5)  \n",
        "            for i in grid:\n",
        "              ax.text(x=0,y=i,s=i)\n",
        "            ax.set_rlim([min(grid), max(grid)])\n",
        "          radarchart(name)\n",
        "          print('win rate:勝率\\nmore than draw rate:引き分け以上の確率\\n4 drop out rate:4人吊り(完全勝利)率\\ndraw rate:引き分け率\\nlose rate:負け率')\n",
        "          break\n",
        "      break\n",
        "    else:\n",
        "      continue\n",
        "    plt.show()\n",
        "\n",
        "graphmake()\n"
      ],
      "metadata": {
        "id": "rpzwVA98-AwB"
      },
      "execution_count": null,
      "outputs": []
    }
  ]
}