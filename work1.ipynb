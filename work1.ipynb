{
  "nbformat": 4,
  "nbformat_minor": 0,
  "metadata": {
    "colab": {
      "provenance": [],
      "authorship_tag": "ABX9TyOMR0W/q6o5OVrQVJfpXP73",
      "include_colab_link": true
    },
    "kernelspec": {
      "name": "python3",
      "display_name": "Python 3"
    },
    "language_info": {
      "name": "python"
    }
  },
  "cells": [
    {
      "cell_type": "markdown",
      "metadata": {
        "id": "view-in-github",
        "colab_type": "text"
      },
      "source": [
        "<a href=\"https://colab.research.google.com/github/kooosee/Prog2kakushin/blob/main/work1.ipynb\" target=\"_parent\"><img src=\"https://colab.research.google.com/assets/colab-badge.svg\" alt=\"Open In Colab\"/></a>"
      ]
    },
    {
      "cell_type": "markdown",
      "source": [
        "## numpyの表を使って'IdentityⅤ'(ゲーム)のデータを作りグラフ化する\n",
        "\n"
      ],
      "metadata": {
        "id": "uZFU0g0i8wsr"
      }
    },
    {
      "cell_type": "code",
      "source": [],
      "metadata": {
        "id": "9CRPJh_1Rl55"
      },
      "execution_count": null,
      "outputs": []
    }
  ]
}