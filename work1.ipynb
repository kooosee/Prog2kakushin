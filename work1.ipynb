{
  "nbformat": 4,
  "nbformat_minor": 0,
  "metadata": {
    "colab": {
      "provenance": [],
      "authorship_tag": "ABX9TyMI9gqXRWPNkWwFcM1+cqCx",
      "include_colab_link": true
    },
    "kernelspec": {
      "name": "python3",
      "display_name": "Python 3"
    },
    "language_info": {
      "name": "python"
    }
  },
  "cells": [
    {
      "cell_type": "markdown",
      "metadata": {
        "id": "view-in-github",
        "colab_type": "text"
      },
      "source": [
        "<a href=\"https://colab.research.google.com/github/kooosee/Prog2kakushin/blob/main/work1.ipynb\" target=\"_parent\"><img src=\"https://colab.research.google.com/assets/colab-badge.svg\" alt=\"Open In Colab\"/></a>"
      ]
    },
    {
      "cell_type": "markdown",
      "source": [
        "## pandasの表を使って'IdentityⅤ'(ゲーム)のデータを作りグラフ化する\n",
        "\n"
      ],
      "metadata": {
        "id": "uZFU0g0i8wsr"
      }
    },
    {
      "cell_type": "code",
      "source": [
        "import pandas as pd"
      ],
      "metadata": {
        "id": "9CRPJh_1Rl55"
      },
      "execution_count": 1,
      "outputs": []
    },
    {
      "cell_type": "code",
      "source": [
        "df=pd.DataFrame([ ['',] ])\n",
        "df.columns=['選手名','試合数','平均脱落者数','勝ち数','分け数','負け数','勝率']"
      ],
      "metadata": {
        "id": "rpzwVA98-AwB"
      },
      "execution_count": null,
      "outputs": []
    }
  ]
}