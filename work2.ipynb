{
  "nbformat": 4,
  "nbformat_minor": 0,
  "metadata": {
    "colab": {
      "provenance": [],
      "authorship_tag": "ABX9TyNWzUo1uvLyfx9lYM5UbOQM",
      "include_colab_link": true
    },
    "kernelspec": {
      "name": "python3",
      "display_name": "Python 3"
    },
    "language_info": {
      "name": "python"
    }
  },
  "cells": [
    {
      "cell_type": "markdown",
      "metadata": {
        "id": "view-in-github",
        "colab_type": "text"
      },
      "source": [
        "<a href=\"https://colab.research.google.com/github/kooosee/Prog2kakushin/blob/main/work2.ipynb\" target=\"_parent\"><img src=\"https://colab.research.google.com/assets/colab-badge.svg\" alt=\"Open In Colab\"/></a>"
      ]
    },
    {
      "cell_type": "markdown",
      "source": [
        "## numpyを使った音階でJ-POPの人気音楽のサビの部分を演奏する\n",
        "\n"
      ],
      "metadata": {
        "id": "uZFU0g0i8wsr"
      }
    },
    {
      "cell_type": "code",
      "source": [
        "import pandas as pd\n",
        "import numpy as np\n",
        "import IPython\n",
        "k_pop=['Subtitle','Habit','新時代','アイラブユー','KICK BACK','残響散歌','W/X/Y','ミックスナッツ','怪獣の花唄','祝福']\n",
        "print('J-POPランキング(1月4日更新)\\n1位 :Subtitle\\n2位 :Habit\\n3位 :新時代\\n4位 :アイラブユー\\n5位 :KICK BACK\\n6位 :残響散歌\\n7位 :W/X/Y\\n8位 :ミックスナッツ\\n9位 :怪獣の花唄\\n10位:祝福')\n",
        "def subtotle():\n",
        "  \n",
        "while True:\n",
        "  music=input('K-POPを選んでください')\n",
        "  if music not in k_pop:\n",
        "    print('もう一度選んでください')\n",
        "    continue\n",
        "  else:\n",
        "    break\n",
        "A = 0.5 # 音の大きさ\n",
        "Fs = 48000 #サンプリング周波数（固定，48kHz, １秒間におけるデータ数)\n",
        "d_t = 1.0 #音の長さ\n",
        "f = 440 #生成したい音の周波数(この値を変えることで様々な音階をつくることができます)\n",
        "TONES = {'ラ': 440.0, 'シ': 493.9, 'ド': 523.3, 'レ': 587.3, 'ミ': 659.3, 'ファ': 698.5, 'ソ': 784.0 }\n",
        "t = np.linspace(0., d_t, int(Fs*d_t))\n"
      ],
      "metadata": {
        "id": "9CRPJh_1Rl55",
        "outputId": "9a48444f-22a5-49dd-fccf-c96bf1b37ceb",
        "colab": {
          "base_uri": "https://localhost:8080/"
        }
      },
      "execution_count": 2,
      "outputs": [
        {
          "output_type": "stream",
          "name": "stdout",
          "text": [
            "J-POPランキング(1月4日更新)\n",
            "1位 :Subtitle\n",
            "2位 :Habit\n",
            "3位 :新時代\n",
            "4位 :アイラブユー\n",
            "5位 :KICK BACK\n",
            "6位 :残響散歌\n",
            "7位 :W/X/Y\n",
            "8位 :ミックスナッツ\n",
            "9位 :怪獣の花唄\n",
            "10位:祝福\n"
          ]
        }
      ]
    }
  ]
}